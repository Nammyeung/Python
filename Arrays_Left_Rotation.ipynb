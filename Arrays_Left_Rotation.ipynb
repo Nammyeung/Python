{
  "nbformat": 4,
  "nbformat_minor": 0,
  "metadata": {
    "colab": {
      "name": "Arrays: Left Rotation.ipynb의 사본",
      "provenance": [],
      "authorship_tag": "ABX9TyP+VvFojF+hD8lUvb4eUNoS",
      "include_colab_link": true
    },
    "kernelspec": {
      "name": "python3",
      "display_name": "Python 3"
    }
  },
  "cells": [
    {
      "cell_type": "markdown",
      "metadata": {
        "id": "view-in-github",
        "colab_type": "text"
      },
      "source": [
        "<a href=\"https://colab.research.google.com/github/Nammyeung/Python/blob/master/Arrays_Left_Rotation.ipynb\" target=\"_parent\"><img src=\"https://colab.research.google.com/assets/colab-badge.svg\" alt=\"Open In Colab\"/></a>"
      ]
    },
    {
      "cell_type": "code",
      "metadata": {
        "id": "9av-kfjZQUKO",
        "colab_type": "code",
        "colab": {
          "base_uri": "https://localhost:8080/",
          "height": 107
        },
        "outputId": "db990ef4-af48-45df-fc41-2e53d60fcb44"
      },
      "source": [
        "#!/bin/python3\n",
        "\n",
        "import math\n",
        "import os\n",
        "import random\n",
        "import re\n",
        "import sys\n",
        "\n",
        "# Complete the rotLeft function below.\n",
        "def rotLeft(a, d):\n",
        "\n",
        "    temp = 0;\n",
        "\n",
        "    for i in range(d):\n",
        "        temp = a[0];\n",
        "        for j in range(len(a)-1):\n",
        "            a[j] = a[j+1]\n",
        "\n",
        "        a[len(a)-1] = temp;\n",
        "    return a;            \n",
        "\n",
        "\n",
        "#if __name__ == '__main__':\n",
        "#    fptr = open(os.environ['OUTPUT_PATH'], 'w')\n",
        "print(\"값을 입력하시오 1. 총 배열의 수 2. left 시행 갯수 (구분자 : 띄어쓰기)\")\n",
        "nd = input().split()\n",
        "n = int(nd[0])\n",
        "d = int(nd[1])\n",
        "print(\"배열을 입력하시오(구분자 : 띄어쓰기)\")\n",
        "a = list(map(int, input().rstrip().split()))\n",
        "result = rotLeft(a, d)\n",
        "print(result)\n",
        "\n",
        "#    fptr.write(' '.join(map(str, result)))\n",
        "#   fptr.write('\\n')\n",
        "#  fptr.close()\n"
      ],
      "execution_count": null,
      "outputs": [
        {
          "output_type": "stream",
          "text": [
            "값을 입력하시오 1. 총 배열의 수 2. left 시행 갯수 (구분자 : 띄어쓰기)\n",
            "5 4\n",
            "배열을 입력하시오(구분자 : 띄어쓰기)\n",
            "1 2 3 4 5\n",
            "[5, 1, 2, 3, 4]\n"
          ],
          "name": "stdout"
        }
      ]
    }
  ]
}
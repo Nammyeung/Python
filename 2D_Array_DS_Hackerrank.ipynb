{
  "nbformat": 4,
  "nbformat_minor": 0,
  "metadata": {
    "colab": {
      "name": "2D Array-DS_Hackerrank.ipynb의 사본",
      "provenance": [],
      "authorship_tag": "ABX9TyMtSEJc8fXR2qMsLQUQXsFH",
      "include_colab_link": true
    },
    "kernelspec": {
      "name": "python3",
      "display_name": "Python 3"
    }
  },
  "cells": [
    {
      "cell_type": "markdown",
      "metadata": {
        "id": "view-in-github",
        "colab_type": "text"
      },
      "source": [
        "<a href=\"https://colab.research.google.com/github/Nammyeung/Python/blob/master/2D_Array_DS_Hackerrank.ipynb\" target=\"_parent\"><img src=\"https://colab.research.google.com/assets/colab-badge.svg\" alt=\"Open In Colab\"/></a>"
      ]
    },
    {
      "cell_type": "code",
      "metadata": {
        "id": "NYTI36eUptzT",
        "colab_type": "code",
        "colab": {}
      },
      "source": [
        "#!/bin/python3\n",
        "\n",
        "import math\n",
        "import os\n",
        "import random\n",
        "import re\n",
        "import sys\n",
        "\n",
        "#Complete the hourglassSum function below.\n",
        "def hourglassSum(arr):\n",
        "  sum_ = -9999\n",
        "  for y in range(len(arr)-2):\n",
        "    for x in range(len(arr[0])-2):\n",
        "      temp = arr[y][x] + arr[y][x+1] + arr[y][x+2] + \\\n",
        "             + arr[y+1][x+1] + \\\n",
        "             arr[y+2][x] + arr[y+2][x+1] + arr[y+2][x+2]\n",
        "      if temp > sum_:\n",
        "        sum_ = temp\n",
        "    return sum_\n",
        "\n",
        "arrr = []\n",
        "\n",
        "for _ in range(6):\n",
        "  arr.append(list(map(int, imput().rstrip().split())))\n",
        "\n",
        "result = hourglassSum(arr)\n",
        "print(result)"
      ],
      "execution_count": null,
      "outputs": []
    },
    {
      "cell_type": "code",
      "metadata": {
        "id": "0cXgfq3npawc",
        "colab_type": "code",
        "colab": {}
      },
      "source": [
        ""
      ],
      "execution_count": null,
      "outputs": []
    }
  ]
}
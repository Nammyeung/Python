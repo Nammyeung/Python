{
  "nbformat": 4,
  "nbformat_minor": 0,
  "metadata": {
    "colab": {
      "name": "자물쇠와 열쇠_2020kakao.ipynb",
      "provenance": [],
      "collapsed_sections": [],
      "authorship_tag": "ABX9TyPJ4GmLTA8mwkuboqcUypOI",
      "include_colab_link": true
    },
    "kernelspec": {
      "name": "python3",
      "display_name": "Python 3"
    }
  },
  "cells": [
    {
      "cell_type": "markdown",
      "metadata": {
        "id": "view-in-github",
        "colab_type": "text"
      },
      "source": [
        "<a href=\"https://colab.research.google.com/github/Nammyeung/Python/blob/master/%EC%9E%90%EB%AC%BC%EC%87%A0%EC%99%80_%EC%97%B4%EC%87%A0_2020kakao.ipynb\" target=\"_parent\"><img src=\"https://colab.research.google.com/assets/colab-badge.svg\" alt=\"Open In Colab\"/></a>"
      ]
    },
    {
      "cell_type": "code",
      "metadata": {
        "id": "l3_Z3MdkxPaE",
        "outputId": "ecd9938b-41f4-43d4-f8fb-9a69df5ced5e",
        "colab": {
          "base_uri": "https://localhost:8080/",
          "height": 809
        }
      },
      "source": [
        "def vacant(lock):\n",
        "  N = len(lock)\n",
        "  vac = []\n",
        "  v = 0\n",
        "  #이중배열 전부다 탐색\n",
        "  for r in range(N):\n",
        "    for c in range(N):\n",
        "      if lock[r][c] == 0:\n",
        "        #lock의 위치를 리스트의 형태로 스택에 담는다.\n",
        "        vac.append((r, c))\n",
        "        print(\"vac 현황 : %s\" % (vac))\n",
        "        v += 1\n",
        "  return v, vac\n",
        "\n",
        "def rotate(key):\n",
        "  M = len(key)\n",
        "  #회전을 위해 배열을 새로 만듬\n",
        "  key1 = [(r, c) for r in range(M) for c in range(M) if key[r][c] == 1]\n",
        "  key2 = [(M-r-1, c) for c, r in key1]\n",
        "  key3 = [(r, M-c-1) for c, r in key1]\n",
        "  key4 = [(M-r-1, M-c-1) for r, c in key1]\n",
        "\n",
        "  key1 = quick_sort(key1)\n",
        "  key2 = quick_sort(key2)\n",
        "  key3 = quick_sort(key3)\n",
        "  key4 = quick_sort(key4)\n",
        "  print(key1, key2, key3, key4)\n",
        "\n",
        "  return key1, key2, key3, key4\n",
        "\n",
        "def quick_sort(arr):\n",
        "  if not arr: return []\n",
        "  print(\"arr : %s\" % arr)\n",
        "  print(\"len(arr)//2 : %s\" % (len(arr)//2))\n",
        "  pivot = arr[len(arr)//2]\n",
        "  lesser, equal, greater = [], [pivot], []\n",
        "\n",
        "  for pos in arr:\n",
        "    if pos[0] < pivot[0]:\n",
        "      lesser.append(pos)\n",
        "    elif pos[0] > pivot[0]:\n",
        "      greater.append(pos)\n",
        "    else:\n",
        "      if pos[1] < pivot[1]:\n",
        "        lesser.append(pos)\n",
        "      elif pos[1] > pivot[1]:\n",
        "        greater.append(pos)\n",
        "  \n",
        "  return quick_sort(lesser) + equal + quick_sort(greater)\n",
        "\n",
        "def solution(key, lock):\n",
        "  N = len(lock)\n",
        "  v, vac = vacant(lock) # vacant의 return 값은 2(v : lock의 갯수, vac : lock된 좌표 리스트의 모임)\n",
        "  if not vac: return True\n",
        "  print(\"vac : %s\" % vac)\n",
        "  # print(\"vac[0] : %s\" % vac[0][0]) (이중배열이라는 것 확인)\n",
        "  vac = vac[0]\n",
        "  find = False\n",
        "  for key in rotate(key):\n",
        "    for i in range(len(key)):\n",
        "      cnt = 0\n",
        "      rr, cc = vac[0]-key[i][0], vac[1]-key[i][1]\n",
        "      print(\"rr : %s, cc : %s\" %(rr, cc))\n",
        "      for j in range(i, len(key)):\n",
        "        print(\"key : %s\" % (key))\n",
        "        r, c = key[j]\n",
        "        r, c = r+rr, c+cc\n",
        "        if not (0 <= r < N and 0 <= c < N): continue\n",
        "        if lock[r][c] == 1: break\n",
        "        cnt += 1\n",
        "      if cnt == v:\n",
        "        find = True\n",
        "        break\n",
        "    if find: break\n",
        "  if find: return True\n",
        "  return False\n",
        "\n",
        "\n",
        "key = [[0, 0, 0], [1, 0, 0], [0, 1, 1]]\n",
        "lock = [[1, 1, 1], [1, 1, 0], [1, 0, 1]]\n",
        "\n",
        "print(solution(key, lock))"
      ],
      "execution_count": 13,
      "outputs": [
        {
          "output_type": "stream",
          "text": [
            "vac 현황 : [(1, 2)]\n",
            "vac 현황 : [(1, 2), (2, 1)]\n",
            "vac : [(1, 2), (2, 1)]\n",
            "arr : [(1, 0), (2, 1), (2, 2)]\n",
            "len(arr)//2 : 1\n",
            "arr : [(1, 0)]\n",
            "len(arr)//2 : 0\n",
            "arr : [(2, 2)]\n",
            "len(arr)//2 : 0\n",
            "arr : [(2, 1), (1, 2), (0, 2)]\n",
            "len(arr)//2 : 1\n",
            "arr : [(0, 2)]\n",
            "len(arr)//2 : 0\n",
            "arr : [(2, 1)]\n",
            "len(arr)//2 : 0\n",
            "arr : [(0, 1), (1, 0), (2, 0)]\n",
            "len(arr)//2 : 1\n",
            "arr : [(0, 1)]\n",
            "len(arr)//2 : 0\n",
            "arr : [(2, 0)]\n",
            "len(arr)//2 : 0\n",
            "arr : [(1, 2), (0, 1), (0, 0)]\n",
            "len(arr)//2 : 1\n",
            "arr : [(0, 0)]\n",
            "len(arr)//2 : 0\n",
            "arr : [(1, 2)]\n",
            "len(arr)//2 : 0\n",
            "[(1, 0), (2, 1), (2, 2)] [(0, 2), (1, 2), (2, 1)] [(0, 1), (1, 0), (2, 0)] [(0, 0), (0, 1), (1, 2)]\n",
            "rr : 0, cc : 2\n",
            "key : [(1, 0), (2, 1), (2, 2)]\n",
            "key : [(1, 0), (2, 1), (2, 2)]\n",
            "key : [(1, 0), (2, 1), (2, 2)]\n",
            "rr : -1, cc : 1\n",
            "key : [(1, 0), (2, 1), (2, 2)]\n",
            "key : [(1, 0), (2, 1), (2, 2)]\n",
            "rr : -1, cc : 0\n",
            "key : [(1, 0), (2, 1), (2, 2)]\n",
            "rr : 1, cc : 0\n",
            "key : [(0, 2), (1, 2), (2, 1)]\n",
            "key : [(0, 2), (1, 2), (2, 1)]\n",
            "rr : 0, cc : 0\n",
            "key : [(0, 2), (1, 2), (2, 1)]\n",
            "key : [(0, 2), (1, 2), (2, 1)]\n",
            "True\n"
          ],
          "name": "stdout"
        }
      ]
    },
    {
      "cell_type": "code",
      "metadata": {
        "id": "Aw9DAapF6lrN"
      },
      "source": [
        ""
      ],
      "execution_count": null,
      "outputs": []
    }
  ]
}
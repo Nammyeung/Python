{
  "nbformat": 4,
  "nbformat_minor": 0,
  "metadata": {
    "colab": {
      "name": "Min_Max_Riddle.ipynb",
      "provenance": [],
      "authorship_tag": "ABX9TyMABOoNJNGkcX/zTxylmxCf",
      "include_colab_link": true
    },
    "kernelspec": {
      "name": "python3",
      "display_name": "Python 3"
    }
  },
  "cells": [
    {
      "cell_type": "markdown",
      "metadata": {
        "id": "view-in-github",
        "colab_type": "text"
      },
      "source": [
        "<a href=\"https://colab.research.google.com/github/Nammyeung/Python/blob/master/Min_Max_Riddle.ipynb\" target=\"_parent\"><img src=\"https://colab.research.google.com/assets/colab-badge.svg\" alt=\"Open In Colab\"/></a>"
      ]
    },
    {
      "cell_type": "code",
      "metadata": {
        "id": "T23uJi9joOjb",
        "colab_type": "code",
        "colab": {}
      },
      "source": [
        "def riddle(arr):\n",
        "    n = len(arr)\n",
        "    max_mins = [None]*n\n",
        "    stack = [] # will store (num, index)\n",
        "    for i in range(n):\n",
        "        #print('stack', stack)\n",
        "        #print('max_mins', max_mins)\n",
        "        # remember to \"push back\"\n",
        "        _m = i\n",
        "        while len(stack) > 0 and stack[-1][0] > arr[i]:\n",
        "            _v, _i = stack.pop(-1)\n",
        "            w = i - _i\n",
        "            for _w in range(w): # note that it's zero indexed and shifted down\n",
        "                if max_mins[_w] is None:\n",
        "                    max_mins[_w] = _v\n",
        "                else:\n",
        "                    max_mins[_w] = max(max_mins[_w], _v)\n",
        "            _m = _i # get the smallest index at which we could start\n",
        "        stack.append((arr[i],_m))\n",
        "\n",
        "    # these were the minima for all this time\n",
        "    while len(stack) > 0:\n",
        "        #print('stack', stack)\n",
        "        #print('max_mins', max_mins)\n",
        "        _v, _i = stack.pop(-1)\n",
        "        w = n - _i\n",
        "        for _w in range(w):\n",
        "            if max_mins[_w] is None:\n",
        "                max_mins[_w] = _v\n",
        "            else:\n",
        "                max_mins[_w] = max(max_mins[_w], _v)\n",
        "    return max_mins"
      ],
      "execution_count": null,
      "outputs": []
    }
  ]
}
{
  "nbformat": 4,
  "nbformat_minor": 0,
  "metadata": {
    "colab": {
      "name": "hanoi_20201027.ipynb",
      "provenance": [],
      "collapsed_sections": [],
      "authorship_tag": "ABX9TyOn7yIiK6Z3FoWKpZLvcAOv",
      "include_colab_link": true
    },
    "kernelspec": {
      "name": "python3",
      "display_name": "Python 3"
    }
  },
  "cells": [
    {
      "cell_type": "markdown",
      "metadata": {
        "id": "view-in-github",
        "colab_type": "text"
      },
      "source": [
        "<a href=\"https://colab.research.google.com/github/Nammyeung/Python/blob/master/hanoi_20201027.ipynb\" target=\"_parent\"><img src=\"https://colab.research.google.com/assets/colab-badge.svg\" alt=\"Open In Colab\"/></a>"
      ]
    },
    {
      "cell_type": "code",
      "metadata": {
        "id": "EQ3l3eHzhikH",
        "outputId": "578b5d8c-997b-447d-cc8e-0f448fbfd590",
        "colab": {
          "base_uri": "https://localhost:8080/",
          "height": 413
        }
      },
      "source": [
        "# 하노이의 탑 \n",
        "# 입력: 옮기려는 원반의 갯수 n \n",
        "# 옮길 원반이 현재 있는 출발점 기둥 from_pos \n",
        "# 원반을 옮길 도착점 기둥 to_pos \n",
        "# 옮기는 과정에서 사용할 보조 기둥 aux_pos \n",
        "# 출력: 원반을 옮기는 순서\n",
        "\n",
        "#출처: https://stricky.tistory.com/155 [The DataBase that i am good at]\n",
        "\n",
        "def hanoi(n, from_pos, to_pos, aux_pos):\n",
        "  if n == 1 : # 원판 한 개를 옮기는 문제면 그냥 옮기면 됨\n",
        "    print(from_pos, \"->\", to_pos)\n",
        "    return\n",
        "\n",
        "  # 원판 n - 1개를 aux_pos로 이동(to_pos를 보조 기둥으로)\n",
        "  print(\"from_pos -> aux_pos\")\n",
        "  hanoi(n - 1, from_pos, aux_pos, to_pos)\n",
        "  # 가장 큰 원반을 목적지로 이동\n",
        "  print(from_pos, \"->\", to_pos)\n",
        "  # aux_pos에 있는 원반 n-1개를 목적지로 이동(from_pos를 보조 기둥으로)\n",
        "  print(\"aux_pos -> to_pos\")\n",
        "  hanoi(n - 1, aux_pos, to_pos, from_pos)\n",
        "\n",
        "print(\"n = 1\")\n",
        "hanoi(1, 1, 3, 2) # 원반 한 개를 1번 기둥에서 3번 기둥으로 이동(2번을 보조 기둥으로)\n",
        "print(\"n = 2\")\n",
        "hanoi(2, 1, 3, 2) # 원반 두개를 1번 기둥에서 3번 기둥으로 이동(2번을 보조 기둥으로)\n",
        "print(\"n = 3\")\n",
        "hanoi(3, 1, 3, 2) # 원반 세 개를 1번 기둥에서 3번 기둥으로 이동(2번을 보조 기둥으로)"
      ],
      "execution_count": 4,
      "outputs": [
        {
          "output_type": "stream",
          "text": [
            "n = 1\n",
            "1 -> 3\n",
            "n = 2\n",
            "from_pos -> aux_pos\n",
            "1 -> 2\n",
            "1 -> 3\n",
            "aux_pos -> to_pos\n",
            "2 -> 3\n",
            "n = 3\n",
            "from_pos -> aux_pos\n",
            "from_pos -> aux_pos\n",
            "1 -> 3\n",
            "1 -> 2\n",
            "aux_pos -> to_pos\n",
            "3 -> 2\n",
            "1 -> 3\n",
            "aux_pos -> to_pos\n",
            "from_pos -> aux_pos\n",
            "2 -> 1\n",
            "2 -> 3\n",
            "aux_pos -> to_pos\n",
            "1 -> 3\n"
          ],
          "name": "stdout"
        }
      ]
    }
  ]
}
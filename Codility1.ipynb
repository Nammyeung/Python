{
  "nbformat": 4,
  "nbformat_minor": 0,
  "metadata": {
    "colab": {
      "name": "Codility1.ipynb",
      "provenance": [],
      "authorship_tag": "ABX9TyPQWx88tVhCgWqeYOre5AuC",
      "include_colab_link": true
    },
    "kernelspec": {
      "name": "python3",
      "display_name": "Python 3"
    }
  },
  "cells": [
    {
      "cell_type": "markdown",
      "metadata": {
        "id": "view-in-github",
        "colab_type": "text"
      },
      "source": [
        "<a href=\"https://colab.research.google.com/github/Nammyeung/Python/blob/master/Codility1.ipynb\" target=\"_parent\"><img src=\"https://colab.research.google.com/assets/colab-badge.svg\" alt=\"Open In Colab\"/></a>"
      ]
    },
    {
      "cell_type": "code",
      "metadata": {
        "id": "rzV-j6BAm6th",
        "outputId": "074c569c-dd02-4e84-be70-f1cbb9ee6a82",
        "colab": {
          "base_uri": "https://localhost:8080/"
        }
      },
      "source": [
        "def solution(N):\n",
        "  numList = []\n",
        "  while N > 0:\n",
        "    numList.append(N%10)\n",
        "    print(\"numList : \", numList)\n",
        "    N = N//10\n",
        "    #숫자를 전체적으로 오른쪽으로 이동?\n",
        "    print(\"N : \" , N)\n",
        "  numList.sort(reverse = True)\n",
        "  #내림차순 정렬(desc)\n",
        "  print(\"numList : \", numList)\n",
        "  result = 0\n",
        "  for n in numList:\n",
        "    result = result * 10 + n\n",
        "    print(\"result : \", result)\n",
        "  return result\n",
        "\n",
        "N = 13574\n",
        "print(solution(N))"
      ],
      "execution_count": 3,
      "outputs": [
        {
          "output_type": "stream",
          "text": [
            "numList :  [4]\n",
            "N :  1357\n",
            "numList :  [4, 7]\n",
            "N :  135\n",
            "numList :  [4, 7, 5]\n",
            "N :  13\n",
            "numList :  [4, 7, 5, 3]\n",
            "N :  1\n",
            "numList :  [4, 7, 5, 3, 1]\n",
            "N :  0\n",
            "numList :  [7, 5, 4, 3, 1]\n",
            "result :  7\n",
            "result :  75\n",
            "result :  754\n",
            "result :  7543\n",
            "result :  75431\n",
            "75431\n"
          ],
          "name": "stdout"
        }
      ]
    }
  ]
}
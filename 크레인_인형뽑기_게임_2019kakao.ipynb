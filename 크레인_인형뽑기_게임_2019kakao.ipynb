{
  "nbformat": 4,
  "nbformat_minor": 0,
  "metadata": {
    "colab": {
      "name": "크레인 인형뽑기 게임_2019kakao.ipynb",
      "provenance": [],
      "collapsed_sections": [],
      "authorship_tag": "ABX9TyOK06LlUJchqYKKilTcOtY6",
      "include_colab_link": true
    },
    "kernelspec": {
      "name": "python3",
      "display_name": "Python 3"
    }
  },
  "cells": [
    {
      "cell_type": "markdown",
      "metadata": {
        "id": "view-in-github",
        "colab_type": "text"
      },
      "source": [
        "<a href=\"https://colab.research.google.com/github/Nammyeung/Python/blob/master/%ED%81%AC%EB%A0%88%EC%9D%B8_%EC%9D%B8%ED%98%95%EB%BD%91%EA%B8%B0_%EA%B2%8C%EC%9E%84_2019kakao.ipynb\" target=\"_parent\"><img src=\"https://colab.research.google.com/assets/colab-badge.svg\" alt=\"Open In Colab\"/></a>"
      ]
    },
    {
      "cell_type": "code",
      "metadata": {
        "id": "47k8e4sEEJ2h",
        "outputId": "c3009ab4-4a89-4940-da3a-6ab94b07b65d",
        "colab": {
          "base_uri": "https://localhost:8080/",
          "height": 953
        }
      },
      "source": [
        "def solution(board, moves):\n",
        "  stacklist = []\n",
        "  answer = 0\n",
        "\n",
        "  for i in moves:\n",
        "    print(\"i : %s, moves : %s\" % (i,moves)) # 인형 뽑는 위치\n",
        "    for j in range(len(board)):\n",
        "      print(\"j : %s, board : %s\" % (j,board)) # 인형좌표(번호는 인형의 종류)\n",
        "      if board[j][i-1] != 0:\n",
        "        stacklist.append(board[j][i-1])\n",
        "        print(\"stack에 인형 %s를 쌓았습니다, stacklist : %s\" % (board[j][i-1],stacklist))\n",
        "        board[j][i-1] = 0\n",
        "\n",
        "        #스택에서 테트리스(동일한 벽돌 두 개 쌓이면 없애기) 시행\n",
        "        if len(stacklist) > 1:\n",
        "          print(\"stacklist 체크 stacklist[-1] : %s, stacklist[-2] : %s\" % (stacklist[-1],stacklist[-2]))\n",
        "          if stacklist[-1] == stacklist[-2]:\n",
        "            stacklist.pop(-1)\n",
        "            stacklist.pop(-1)\n",
        "            print(\"날아간 후 stacklist 현황 : %s\" % stacklist)\n",
        "            answer += 2\n",
        "        break\n",
        "  return answer\n",
        "\n",
        "board = [[0,0,0,0,0],[0,0,1,0,3],[0,2,5,0,1],[4,2,4,4,2],[3,5,1,3,1]] # 인형좌표(번호는 인형의 종류)\n",
        "moves = [1,5,3,5,1,2,1,4] # 인형 뽑는 위치\n",
        "print(solution(board, moves))\n",
        "\n",
        "#[0,0,0,0,0],\n",
        "#[0,0,1,0,3],\n",
        "#[0,2,5,0,1],\n",
        "#[4,2,4,4,2],\n",
        "#[3,5,1,3,1]"
      ],
      "execution_count": 21,
      "outputs": [
        {
          "output_type": "stream",
          "text": [
            "i : 1, moves : [1, 5, 3, 5, 1, 2, 1, 4]\n",
            "j : 0, board : [[0, 0, 0, 0, 0], [0, 0, 1, 0, 3], [0, 2, 5, 0, 1], [4, 2, 4, 4, 2], [3, 5, 1, 3, 1]]\n",
            "j : 1, board : [[0, 0, 0, 0, 0], [0, 0, 1, 0, 3], [0, 2, 5, 0, 1], [4, 2, 4, 4, 2], [3, 5, 1, 3, 1]]\n",
            "j : 2, board : [[0, 0, 0, 0, 0], [0, 0, 1, 0, 3], [0, 2, 5, 0, 1], [4, 2, 4, 4, 2], [3, 5, 1, 3, 1]]\n",
            "j : 3, board : [[0, 0, 0, 0, 0], [0, 0, 1, 0, 3], [0, 2, 5, 0, 1], [4, 2, 4, 4, 2], [3, 5, 1, 3, 1]]\n",
            "stack에 인형 4를 쌓았습니다, stacklist : [4]\n",
            "i : 5, moves : [1, 5, 3, 5, 1, 2, 1, 4]\n",
            "j : 0, board : [[0, 0, 0, 0, 0], [0, 0, 1, 0, 3], [0, 2, 5, 0, 1], [0, 2, 4, 4, 2], [3, 5, 1, 3, 1]]\n",
            "j : 1, board : [[0, 0, 0, 0, 0], [0, 0, 1, 0, 3], [0, 2, 5, 0, 1], [0, 2, 4, 4, 2], [3, 5, 1, 3, 1]]\n",
            "stack에 인형 3를 쌓았습니다, stacklist : [4, 3]\n",
            "stacklist 체크 stacklist[-1] : 3, stacklist[-2] : 4\n",
            "i : 3, moves : [1, 5, 3, 5, 1, 2, 1, 4]\n",
            "j : 0, board : [[0, 0, 0, 0, 0], [0, 0, 1, 0, 0], [0, 2, 5, 0, 1], [0, 2, 4, 4, 2], [3, 5, 1, 3, 1]]\n",
            "j : 1, board : [[0, 0, 0, 0, 0], [0, 0, 1, 0, 0], [0, 2, 5, 0, 1], [0, 2, 4, 4, 2], [3, 5, 1, 3, 1]]\n",
            "stack에 인형 1를 쌓았습니다, stacklist : [4, 3, 1]\n",
            "stacklist 체크 stacklist[-1] : 1, stacklist[-2] : 3\n",
            "i : 5, moves : [1, 5, 3, 5, 1, 2, 1, 4]\n",
            "j : 0, board : [[0, 0, 0, 0, 0], [0, 0, 0, 0, 0], [0, 2, 5, 0, 1], [0, 2, 4, 4, 2], [3, 5, 1, 3, 1]]\n",
            "j : 1, board : [[0, 0, 0, 0, 0], [0, 0, 0, 0, 0], [0, 2, 5, 0, 1], [0, 2, 4, 4, 2], [3, 5, 1, 3, 1]]\n",
            "j : 2, board : [[0, 0, 0, 0, 0], [0, 0, 0, 0, 0], [0, 2, 5, 0, 1], [0, 2, 4, 4, 2], [3, 5, 1, 3, 1]]\n",
            "stack에 인형 1를 쌓았습니다, stacklist : [4, 3, 1, 1]\n",
            "stacklist 체크 stacklist[-1] : 1, stacklist[-2] : 1\n",
            "날아간 후 stacklist 현황 : [4, 3]\n",
            "i : 1, moves : [1, 5, 3, 5, 1, 2, 1, 4]\n",
            "j : 0, board : [[0, 0, 0, 0, 0], [0, 0, 0, 0, 0], [0, 2, 5, 0, 0], [0, 2, 4, 4, 2], [3, 5, 1, 3, 1]]\n",
            "j : 1, board : [[0, 0, 0, 0, 0], [0, 0, 0, 0, 0], [0, 2, 5, 0, 0], [0, 2, 4, 4, 2], [3, 5, 1, 3, 1]]\n",
            "j : 2, board : [[0, 0, 0, 0, 0], [0, 0, 0, 0, 0], [0, 2, 5, 0, 0], [0, 2, 4, 4, 2], [3, 5, 1, 3, 1]]\n",
            "j : 3, board : [[0, 0, 0, 0, 0], [0, 0, 0, 0, 0], [0, 2, 5, 0, 0], [0, 2, 4, 4, 2], [3, 5, 1, 3, 1]]\n",
            "j : 4, board : [[0, 0, 0, 0, 0], [0, 0, 0, 0, 0], [0, 2, 5, 0, 0], [0, 2, 4, 4, 2], [3, 5, 1, 3, 1]]\n",
            "stack에 인형 3를 쌓았습니다, stacklist : [4, 3, 3]\n",
            "stacklist 체크 stacklist[-1] : 3, stacklist[-2] : 3\n",
            "날아간 후 stacklist 현황 : [4]\n",
            "i : 2, moves : [1, 5, 3, 5, 1, 2, 1, 4]\n",
            "j : 0, board : [[0, 0, 0, 0, 0], [0, 0, 0, 0, 0], [0, 2, 5, 0, 0], [0, 2, 4, 4, 2], [0, 5, 1, 3, 1]]\n",
            "j : 1, board : [[0, 0, 0, 0, 0], [0, 0, 0, 0, 0], [0, 2, 5, 0, 0], [0, 2, 4, 4, 2], [0, 5, 1, 3, 1]]\n",
            "j : 2, board : [[0, 0, 0, 0, 0], [0, 0, 0, 0, 0], [0, 2, 5, 0, 0], [0, 2, 4, 4, 2], [0, 5, 1, 3, 1]]\n",
            "stack에 인형 2를 쌓았습니다, stacklist : [4, 2]\n",
            "stacklist 체크 stacklist[-1] : 2, stacklist[-2] : 4\n",
            "i : 1, moves : [1, 5, 3, 5, 1, 2, 1, 4]\n",
            "j : 0, board : [[0, 0, 0, 0, 0], [0, 0, 0, 0, 0], [0, 0, 5, 0, 0], [0, 2, 4, 4, 2], [0, 5, 1, 3, 1]]\n",
            "j : 1, board : [[0, 0, 0, 0, 0], [0, 0, 0, 0, 0], [0, 0, 5, 0, 0], [0, 2, 4, 4, 2], [0, 5, 1, 3, 1]]\n",
            "j : 2, board : [[0, 0, 0, 0, 0], [0, 0, 0, 0, 0], [0, 0, 5, 0, 0], [0, 2, 4, 4, 2], [0, 5, 1, 3, 1]]\n",
            "j : 3, board : [[0, 0, 0, 0, 0], [0, 0, 0, 0, 0], [0, 0, 5, 0, 0], [0, 2, 4, 4, 2], [0, 5, 1, 3, 1]]\n",
            "j : 4, board : [[0, 0, 0, 0, 0], [0, 0, 0, 0, 0], [0, 0, 5, 0, 0], [0, 2, 4, 4, 2], [0, 5, 1, 3, 1]]\n",
            "i : 4, moves : [1, 5, 3, 5, 1, 2, 1, 4]\n",
            "j : 0, board : [[0, 0, 0, 0, 0], [0, 0, 0, 0, 0], [0, 0, 5, 0, 0], [0, 2, 4, 4, 2], [0, 5, 1, 3, 1]]\n",
            "j : 1, board : [[0, 0, 0, 0, 0], [0, 0, 0, 0, 0], [0, 0, 5, 0, 0], [0, 2, 4, 4, 2], [0, 5, 1, 3, 1]]\n",
            "j : 2, board : [[0, 0, 0, 0, 0], [0, 0, 0, 0, 0], [0, 0, 5, 0, 0], [0, 2, 4, 4, 2], [0, 5, 1, 3, 1]]\n",
            "j : 3, board : [[0, 0, 0, 0, 0], [0, 0, 0, 0, 0], [0, 0, 5, 0, 0], [0, 2, 4, 4, 2], [0, 5, 1, 3, 1]]\n",
            "stack에 인형 4를 쌓았습니다, stacklist : [4, 2, 4]\n",
            "stacklist 체크 stacklist[-1] : 4, stacklist[-2] : 2\n",
            "4\n"
          ],
          "name": "stdout"
        }
      ]
    },
    {
      "cell_type": "code",
      "metadata": {
        "id": "yQjbogxjEQBy"
      },
      "source": [
        ""
      ],
      "execution_count": null,
      "outputs": []
    }
  ]
}
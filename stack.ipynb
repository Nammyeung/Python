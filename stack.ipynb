{
  "nbformat": 4,
  "nbformat_minor": 0,
  "metadata": {
    "colab": {
      "name": "stack.ipynb",
      "provenance": [],
      "collapsed_sections": [],
      "authorship_tag": "ABX9TyPND60YrgBJ7dTn21zthi/2",
      "include_colab_link": true
    },
    "kernelspec": {
      "name": "python3",
      "display_name": "Python 3"
    }
  },
  "cells": [
    {
      "cell_type": "markdown",
      "metadata": {
        "id": "view-in-github",
        "colab_type": "text"
      },
      "source": [
        "<a href=\"https://colab.research.google.com/github/Nammyeung/Python/blob/master/stack.ipynb\" target=\"_parent\"><img src=\"https://colab.research.google.com/assets/colab-badge.svg\" alt=\"Open In Colab\"/></a>"
      ]
    },
    {
      "cell_type": "code",
      "metadata": {
        "id": "0GKVc0pgm9dX",
        "outputId": "04f9ce64-1cab-422c-90fc-c057eef48e5d",
        "colab": {
          "base_uri": "https://localhost:8080/",
          "height": 1000
        }
      },
      "source": [
        "# 재귀 함수\n",
        "def recursive(data) :\n",
        "  print(\"실행\")\n",
        "  if data < 0:\n",
        "    print (\"ended\")\n",
        "  else:\n",
        "    print(data)\n",
        "    print(\"실행1\")\n",
        "    recursive(data - 1)\n",
        "    print(\"실행2\")\n",
        "    print(\"returned\", data)\n",
        "    return data\n",
        "\n",
        "recursive(4)\n",
        "\n",
        "stack_list = list()\n",
        "\n",
        "def push(data):\n",
        "  stack_list.append(data)\n",
        "\n",
        "def pop():\n",
        "  data = stack_list[-1]\n",
        "  del stack_list[-1]\n",
        "  return data\n",
        "\n",
        "'''\n",
        "for index in range(10):\n",
        "  push(index)\n",
        "'''\n",
        "push(recursive(4))\n",
        "print(\"스택에서 pop하였습니다.\")\n",
        "print(pop())"
      ],
      "execution_count": 13,
      "outputs": [
        {
          "output_type": "stream",
          "text": [
            "실행\n",
            "4\n",
            "실행1\n",
            "실행\n",
            "3\n",
            "실행1\n",
            "실행\n",
            "2\n",
            "실행1\n",
            "실행\n",
            "1\n",
            "실행1\n",
            "실행\n",
            "0\n",
            "실행1\n",
            "실행\n",
            "ended\n",
            "실행2\n",
            "returned 0\n",
            "실행2\n",
            "returned 1\n",
            "실행2\n",
            "returned 2\n",
            "실행2\n",
            "returned 3\n",
            "실행2\n",
            "returned 4\n",
            "실행\n",
            "4\n",
            "실행1\n",
            "실행\n",
            "3\n",
            "실행1\n",
            "실행\n",
            "2\n",
            "실행1\n",
            "실행\n",
            "1\n",
            "실행1\n",
            "실행\n",
            "0\n",
            "실행1\n",
            "실행\n",
            "ended\n",
            "실행2\n",
            "returned 0\n",
            "실행2\n",
            "returned 1\n",
            "실행2\n",
            "returned 2\n",
            "실행2\n",
            "returned 3\n",
            "실행2\n",
            "returned 4\n",
            "스택에서 pop하였습니다.\n",
            "4\n"
          ],
          "name": "stdout"
        }
      ]
    },
    {
      "cell_type": "code",
      "metadata": {
        "id": "mBsoG-LrnGGD"
      },
      "source": [
        ""
      ],
      "execution_count": null,
      "outputs": []
    }
  ]
}
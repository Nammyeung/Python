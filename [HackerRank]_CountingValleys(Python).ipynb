{
  "nbformat": 4,
  "nbformat_minor": 0,
  "metadata": {
    "colab": {
      "name": "[HackerRank] CountingValleys(Python)",
      "provenance": [],
      "collapsed_sections": [],
      "authorship_tag": "ABX9TyPZ/wY9PhHgIbFh4j77Bt+Q",
      "include_colab_link": true
    },
    "kernelspec": {
      "name": "python3",
      "display_name": "Python 3"
    }
  },
  "cells": [
    {
      "cell_type": "markdown",
      "metadata": {
        "id": "view-in-github",
        "colab_type": "text"
      },
      "source": [
        "<a href=\"https://colab.research.google.com/github/Nammyeung/Python/blob/master/%5BHackerRank%5D_CountingValleys(Python).ipynb\" target=\"_parent\"><img src=\"https://colab.research.google.com/assets/colab-badge.svg\" alt=\"Open In Colab\"/></a>"
      ]
    },
    {
      "cell_type": "code",
      "metadata": {
        "id": "Hq5UMTyZVZ7N",
        "colab_type": "code",
        "colab": {
          "base_uri": "https://localhost:8080/",
          "height": 125
        },
        "outputId": "c0c86714-b554-44cd-f7e9-09ad8d89011a"
      },
      "source": [
        "#!/bin/python3\n",
        "\n",
        "import math\n",
        "import os\n",
        "import random\n",
        "import re\n",
        "import sys\n",
        "\n",
        "# Complete the countingValleys function below.\n",
        "def countingValleys(n, s):\n",
        "  level = 0\n",
        "  valleys = 0\n",
        "  for c in s:\n",
        "    #s문자를 하나씩 탐색(배열 탐색하듯이 문자도 탐색 가능한 듯)\n",
        "    prev = level\n",
        "    print(\"이전 위치 : %d\" % prev)\n",
        "    prev = level\n",
        "    level += 1 if c == 'U' else -1\n",
        "    if prev == -1 and level == 0:\n",
        "        valleys += 1\n",
        "    return valleys\n",
        "\n",
        "print(\"총 걸음 수 입력해\")\n",
        "n = int(input())\n",
        "\n",
        "print(\"걸음 방향 입력해\")\n",
        "s = input()\n",
        "\n",
        "result = countingValleys(n, s)\n",
        "\n",
        "print(result)\n",
        "      "
      ],
      "execution_count": 13,
      "outputs": [
        {
          "output_type": "stream",
          "text": [
            "총 걸음 수 입력해\n",
            "8\n",
            "걸음 방향 입력해\n",
            "UDDDUDUU\n",
            "이전 위치 : 0\n",
            "0\n"
          ],
          "name": "stdout"
        }
      ]
    }
  ]
}
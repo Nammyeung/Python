{
  "nbformat": 4,
  "nbformat_minor": 0,
  "metadata": {
    "colab": {
      "name": "[2018 카카오 공채 블라인드 코딩테스트] 비밀지도.ipynb",
      "provenance": [],
      "collapsed_sections": [],
      "authorship_tag": "ABX9TyNuwxBa2/cPy46JRgqqSLie",
      "include_colab_link": true
    },
    "kernelspec": {
      "name": "python3",
      "display_name": "Python 3"
    }
  },
  "cells": [
    {
      "cell_type": "markdown",
      "metadata": {
        "id": "view-in-github",
        "colab_type": "text"
      },
      "source": [
        "<a href=\"https://colab.research.google.com/github/Nammyeung/Python/blob/master/%5B2018_%EC%B9%B4%EC%B9%B4%EC%98%A4_%EA%B3%B5%EC%B1%84_%EB%B8%94%EB%9D%BC%EC%9D%B8%EB%93%9C_%EC%BD%94%EB%94%A9%ED%85%8C%EC%8A%A4%ED%8A%B8%5D_%EB%B9%84%EB%B0%80%EC%A7%80%EB%8F%84.ipynb\" target=\"_parent\"><img src=\"https://colab.research.google.com/assets/colab-badge.svg\" alt=\"Open In Colab\"/></a>"
      ]
    },
    {
      "cell_type": "code",
      "metadata": {
        "colab": {
          "base_uri": "https://localhost:8080/",
          "height": 136
        },
        "id": "ARF39q7JEuAA",
        "outputId": "e9088599-6ee5-43b9-ecef-4a79c90c5366"
      },
      "source": [
        "def solution(n, arr1, arr2):\n",
        "  # 비트연산 논리합 OR(|)을 이용하여 둘 다 0인 경우에만 0이 되도록 변환\n",
        "  bitMul = [arr1[i] | arr2[i] for i in range(n)]\n",
        "  print(\"bitMul : \" , bitMul)\n",
        "\n",
        "  # 이진수 변환\n",
        "  bitConv = list(map(lambda s: s[2:], map(bin, bitMul)))\n",
        "  print(\"bitConv : \" , bitConv)\n",
        "  # 이진수 값들의 길이를 일치시켜줌\n",
        "  bitLengthConv = ['0'*(len(max(bitConv))-len(element)) + element for element in bitConv]\n",
        "  print(\"bitLnegthConv : \" , bitLengthConv)\n",
        "\n",
        "  # 이진수를 \" \"과 \"#\"으로 변환\n",
        "  result = []\n",
        "  for element in bitLengthConv:\n",
        "    s = ''\n",
        "    for bit in element:\n",
        "      if bit == '1':\n",
        "        s += '#'\n",
        "      else:\n",
        "        s += ' '\n",
        "      result.append(s)\n",
        "  return\n",
        "\n",
        "n = 5\n",
        "arr1 = [9, 20, 28, 18 ,11]\n",
        "arr2 = [30, 1, 21, 17 ,28]\n",
        "\n",
        "solution(n,arr1,arr2)"
      ],
      "execution_count": 5,
      "outputs": [
        {
          "output_type": "error",
          "ename": "SyntaxError",
          "evalue": "ignored",
          "traceback": [
            "\u001b[0;36m  File \u001b[0;32m\"<ipython-input-5-4041efd172b9>\"\u001b[0;36m, line \u001b[0;32m3\u001b[0m\n\u001b[0;31m    1 = [arr1[i] for i in range(n)]\u001b[0m\n\u001b[0m    ^\u001b[0m\n\u001b[0;31mSyntaxError\u001b[0m\u001b[0;31m:\u001b[0m can't assign to literal\n"
          ]
        }
      ]
    },
    {
      "cell_type": "code",
      "metadata": {
        "colab": {
          "base_uri": "https://localhost:8080/"
        },
        "id": "vgAoLQopHuQP",
        "outputId": "c3ac7f4c-fbf7-4e92-905e-41fdcdad7b70"
      },
      "source": [
        "def solution(n, arr1, arr2):\n",
        "  answer = []\n",
        "  for i,j in zip(arr1, arr2):\n",
        "    print(\"i : \", i)\n",
        "    print(\"j : \", j)\n",
        "    a12 = str(bin(i|j)[2:])\n",
        "    print(\"a12 : \" , a12)\n",
        "    a12=a12.rjust(n,'0')\n",
        "    #n의 길이를 최대 문자열으로 비어있는 문자부분을 '0'으로 채워넣는다.\n",
        "    print(\"a12 : \" , a12)\n",
        "    a12=a12.replace('1','#')\n",
        "    a12=a12.replace('0',' ')\n",
        "    answer.append(a12)\n",
        "  return answer\n",
        "\n",
        "n = 5\n",
        "arr1 = [9, 20, 28, 18 ,11]\n",
        "arr2 = [30, 1, 21, 17 ,28]\n",
        "\n",
        "solution(n,arr1,arr2)"
      ],
      "execution_count": 14,
      "outputs": [
        {
          "output_type": "stream",
          "text": [
            "i :  9\n",
            "j :  30\n",
            "a12 :  11111\n",
            "a12 :  0000000011111\n",
            "i :  20\n",
            "j :  1\n",
            "a12 :  10101\n",
            "a12 :  0000000010101\n",
            "i :  28\n",
            "j :  21\n",
            "a12 :  11101\n",
            "a12 :  0000000011101\n",
            "i :  18\n",
            "j :  17\n",
            "a12 :  10011\n",
            "a12 :  0000000010011\n",
            "i :  11\n",
            "j :  28\n",
            "a12 :  11111\n",
            "a12 :  0000000011111\n"
          ],
          "name": "stdout"
        },
        {
          "output_type": "execute_result",
          "data": {
            "text/plain": [
              "['        #####',\n",
              " '        # # #',\n",
              " '        ### #',\n",
              " '        #  ##',\n",
              " '        #####']"
            ]
          },
          "metadata": {
            "tags": []
          },
          "execution_count": 14
        }
      ]
    },
    {
      "cell_type": "code",
      "metadata": {
        "colab": {
          "base_uri": "https://localhost:8080/"
        },
        "id": "ALmd2qAjLMQR",
        "outputId": "59098889-7639-41b8-8fcf-6f111b775ecb"
      },
      "source": [
        "def solution(n, arr1, arr2):\n",
        "  fin_list=[]\n",
        "  for i, j in zip(arr1, arr2):\n",
        "    list1 = int(bin(i)[2:])\n",
        "    print(\"list1 : \" , list1)\n",
        "    list2 = int(bin(i)[2:])\n",
        "    print(\"list2 : \" , list2)\n",
        "    #The zfill() method adds zeros (0) at the beginning of the string, until it reaches the specified length.\n",
        "    fin_list.append(str(list1+list2).zfill(n))\n",
        "\n",
        "  fin=[]\n",
        "  for a in fin_list:\n",
        "    fin_r=''\n",
        "    for b in a:\n",
        "      if b=='0':\n",
        "        fin_r+=\" \"\n",
        "      else:\n",
        "        fin_r+=\"#\"\n",
        "    fin.append(fin_r)\n",
        "  return fin\n",
        "\n",
        "n = 5\n",
        "arr1 = [9, 20, 28, 18 ,11]\n",
        "arr2 = [30, 1, 21, 17 ,28]\n",
        "\n",
        "solution(n,arr1,arr2)"
      ],
      "execution_count": 13,
      "outputs": [
        {
          "output_type": "execute_result",
          "data": {
            "text/plain": [
              "[' #  #', '# #  ', '###  ', '#  # ', ' # ##']"
            ]
          },
          "metadata": {
            "tags": []
          },
          "execution_count": 13
        }
      ]
    },
    {
      "cell_type": "code",
      "metadata": {
        "colab": {
          "base_uri": "https://localhost:8080/"
        },
        "id": "s6aI2lCEO6eb",
        "outputId": "6871540e-299f-478a-9b60-1f5ca1c318a0"
      },
      "source": [
        "def solution(n, arr1, arr2):\n",
        "  answer = []\n",
        "  for pos in range(0, n):\n",
        "    answer.append(numToMap(n, arr1[pos], arr2[pos]))\n",
        "    print(\"answer : \" , answer)\n",
        "  return answer\n",
        "\n",
        "def numToMap(n, a1, a2):\n",
        "  m1 = '{a:0{d}b}'.format(a=a1, d=n)\n",
        "  print(\"m1 : \" , m1)\n",
        "  m2 = '{a:0{d}b}'.format(a=a2, d=n)\n",
        "  print(\"m2 : \" , m2)\n",
        "  res = ''\n",
        "  for pos in range(0, n):\n",
        "    if m1[pos] == '1' or m2[pos] == '1':\n",
        "      res += '#'\n",
        "    else:\n",
        "      res += ' '\n",
        "  return res\n",
        "\n",
        "n = 5\n",
        "arr1 = [9, 20, 28, 18 ,11]\n",
        "arr2 = [30, 1, 21, 17 ,28]\n",
        "\n",
        "solution(n,arr1,arr2)"
      ],
      "execution_count": 18,
      "outputs": [
        {
          "output_type": "stream",
          "text": [
            "m1 :  01001\n",
            "m2 :  11110\n",
            "answer :  ['#####']\n",
            "m1 :  10100\n",
            "m2 :  00001\n",
            "answer :  ['#####', '# # #']\n",
            "m1 :  11100\n",
            "m2 :  10101\n",
            "answer :  ['#####', '# # #', '### #']\n",
            "m1 :  10010\n",
            "m2 :  10001\n",
            "answer :  ['#####', '# # #', '### #', '#  ##']\n",
            "m1 :  01011\n",
            "m2 :  11100\n",
            "answer :  ['#####', '# # #', '### #', '#  ##', '#####']\n"
          ],
          "name": "stdout"
        },
        {
          "output_type": "execute_result",
          "data": {
            "text/plain": [
              "['#####', '# # #', '### #', '#  ##', '#####']"
            ]
          },
          "metadata": {
            "tags": []
          },
          "execution_count": 18
        }
      ]
    },
    {
      "cell_type": "code",
      "metadata": {
        "colab": {
          "base_uri": "https://localhost:8080/"
        },
        "id": "LvoxRY3XQ8TZ",
        "outputId": "cfe3553a-0781-447b-d3d8-3deb95f64f36"
      },
      "source": [
        "def solution(n, arr1, arr2):\n",
        "  # bin(arr1[1])[2:]\n",
        "  result1 = []\n",
        "  for i in range(n):\n",
        "    s = ''\n",
        "    list1 = list(format(arr1[i], 'b'))\n",
        "    while len(list1) < n:\n",
        "      list1.insert(0, '0')\n",
        "    for j in list1:\n",
        "      if j == '0':\n",
        "        s += ' '\n",
        "      elif j == '1':\n",
        "        s += '#'\n",
        "    result1.append(s)\n",
        "\n",
        "  result2 = []\n",
        "  for i in range(n):\n",
        "    s = ''\n",
        "    list2 = list(format(arr2[i], 'b'))\n",
        "    while len(list2) < n:\n",
        "      list2.insert(0, '0')\n",
        "    for j in list2:\n",
        "      if j == '0':\n",
        "        s += ' '\n",
        "      elif j == '1':\n",
        "        s += '#'\n",
        "    result2.append(s)\n",
        "\n",
        "  result = []\n",
        "  for i in range(n):\n",
        "    s = ''\n",
        "    string = result1[i]\n",
        "    string2 = result2[i]\n",
        "    for j in range(n):\n",
        "      if string[j] == '#' or string2[j] == '#':\n",
        "        s += '#'\n",
        "      else:\n",
        "        s += ' '\n",
        "    result.append(s)\n",
        "\n",
        "  return result\n",
        "\n",
        "solution(5, [9, 20, 28, 18, 11], [30, 1, 21, 17, 28])"
      ],
      "execution_count": 22,
      "outputs": [
        {
          "output_type": "execute_result",
          "data": {
            "text/plain": [
              "['#####', '# # #', '### #', '#  ##', '#####']"
            ]
          },
          "metadata": {
            "tags": []
          },
          "execution_count": 22
        }
      ]
    },
    {
      "cell_type": "code",
      "metadata": {
        "id": "nvijmIZORN-o"
      },
      "source": [
        "중단"
      ],
      "execution_count": null,
      "outputs": []
    }
  ]
}
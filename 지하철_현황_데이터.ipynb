{
  "nbformat": 4,
  "nbformat_minor": 0,
  "metadata": {
    "colab": {
      "name": "지하철 현황 데이터.ipynb",
      "provenance": [],
      "authorship_tag": "ABX9TyM3VLDgBfcdb9uLhXvoQ2nZ",
      "include_colab_link": true
    },
    "kernelspec": {
      "name": "python3",
      "display_name": "Python 3"
    }
  },
  "cells": [
    {
      "cell_type": "markdown",
      "metadata": {
        "id": "view-in-github",
        "colab_type": "text"
      },
      "source": [
        "<a href=\"https://colab.research.google.com/github/Nammyeung/Python/blob/master/%EC%A7%80%ED%95%98%EC%B2%A0_%ED%98%84%ED%99%A9_%EB%8D%B0%EC%9D%B4%ED%84%B0.ipynb\" target=\"_parent\"><img src=\"https://colab.research.google.com/assets/colab-badge.svg\" alt=\"Open In Colab\"/></a>"
      ]
    },
    {
      "cell_type": "code",
      "metadata": {
        "id": "UR_VS3aA-tDW",
        "outputId": "07d1f816-302e-4976-9589-b9ffef7f1d6a",
        "colab": {
          "base_uri": "https://localhost:8080/",
          "height": 244
        }
      },
      "source": [
        "import csv\n",
        "import matplotlib.pyplot as plt\n",
        "import matplotlib.font_manager as fm\n",
        "#import elice_utils\n",
        "\n",
        "font = fm.FontProperties(fname='./NanumBarunGothic.ttf')\n",
        "data = csv.reader(open('./data/subway_2016.csv', 'r'), delimiter=\",\")\n",
        "\n",
        "num_passenger1 = []\n",
        "num_passenger2 = []\n",
        "station1 = '신림'\n",
        "line1 = '2호선'\n",
        "station2 = '강남'\n",
        "line2 = '2호선'\n",
        "\n",
        "for row in data:\n",
        "  print(row)\n",
        "  if row[1] == station1 and row[0] == line1:\n",
        "    num_passenger1 = row[2:]\n",
        "  if row[1] == station2 and row[0] == line2:\n",
        "    num_passenger2 = row[2:]\n",
        "get_on1 = num_passenger1[::2]\n",
        "get_off1 = num_passenger1[1::2]\n",
        "\n",
        "get_on2 = num_passenger2[::2]\n",
        "get_off2 = num_passenger2[1::2]\n",
        "\n",
        "get_on1 = [int(g) for g in get_on1]\n",
        "get_off1 = [int(g) for g in get_off1]\n",
        "get_on2 = [int(g) for g in get_on2]\n",
        "get_off2 = [int(g) for g in get_off2]\n",
        "\n",
        "labels = []\n",
        "x = []\n",
        "for i in range(4< 28):\n",
        "  labels.append(str(i)+'시')\n",
        "  x.append(i)\n",
        "\n",
        "plt.xticks(x, labels, rotations='vertical', fontproperties=font)\n",
        "plt.plot(x, get_on1, 'r', label=station1+'역 승차')\n",
        "plt.plot(x, get_on2, 'b', label=station2+'역 승차')\n",
        "plt.ylim(ymax=420000)\n",
        "\n",
        "plt.xticks(x, labels, rotations='vertical')\n",
        "plt.plot(x, get_off1, 'r--', label=station1+'역 하차')\n",
        "plt.plot(x, get_off2, 'b--', label=station2+'역 하차')\n",
        "plt.ylim(ymax=420000)\n",
        "\n",
        "plt.title(station1+'역 승하차 인원 vs '+station2+'역 승하차 인원  \\n # 2016년 6월 티머니카드 제공 데이터', fontproperties=font)\n",
        "plt.legend(prop=font)\n",
        "\n",
        "plt.savefig(\"image.svg\", format=\"svg\")\n",
        "elice_utils.send_image(\"image.svg\")\n"
      ],
      "execution_count": 3,
      "outputs": [
        {
          "output_type": "error",
          "ename": "FileNotFoundError",
          "evalue": "ignored",
          "traceback": [
            "\u001b[0;31m---------------------------------------------------------------------------\u001b[0m",
            "\u001b[0;31mFileNotFoundError\u001b[0m                         Traceback (most recent call last)",
            "\u001b[0;32m<ipython-input-3-6be480ea875d>\u001b[0m in \u001b[0;36m<module>\u001b[0;34m()\u001b[0m\n\u001b[1;32m      5\u001b[0m \u001b[0;34m\u001b[0m\u001b[0m\n\u001b[1;32m      6\u001b[0m \u001b[0mfont\u001b[0m \u001b[0;34m=\u001b[0m \u001b[0mfm\u001b[0m\u001b[0;34m.\u001b[0m\u001b[0mFontProperties\u001b[0m\u001b[0;34m(\u001b[0m\u001b[0mfname\u001b[0m\u001b[0;34m=\u001b[0m\u001b[0;34m'./NanumBarunGothic.ttf'\u001b[0m\u001b[0;34m)\u001b[0m\u001b[0;34m\u001b[0m\u001b[0;34m\u001b[0m\u001b[0m\n\u001b[0;32m----> 7\u001b[0;31m \u001b[0mdata\u001b[0m \u001b[0;34m=\u001b[0m \u001b[0mcsv\u001b[0m\u001b[0;34m.\u001b[0m\u001b[0mreader\u001b[0m\u001b[0;34m(\u001b[0m\u001b[0mopen\u001b[0m\u001b[0;34m(\u001b[0m\u001b[0;34m'./data/subway_2016.csv'\u001b[0m\u001b[0;34m,\u001b[0m \u001b[0;34m'r'\u001b[0m\u001b[0;34m)\u001b[0m\u001b[0;34m,\u001b[0m \u001b[0mdelimiter\u001b[0m\u001b[0;34m=\u001b[0m\u001b[0;34m\",\"\u001b[0m\u001b[0;34m)\u001b[0m\u001b[0;34m\u001b[0m\u001b[0;34m\u001b[0m\u001b[0m\n\u001b[0m\u001b[1;32m      8\u001b[0m \u001b[0;34m\u001b[0m\u001b[0m\n\u001b[1;32m      9\u001b[0m \u001b[0mnum_passenger1\u001b[0m \u001b[0;34m=\u001b[0m \u001b[0;34m[\u001b[0m\u001b[0;34m]\u001b[0m\u001b[0;34m\u001b[0m\u001b[0;34m\u001b[0m\u001b[0m\n",
            "\u001b[0;31mFileNotFoundError\u001b[0m: [Errno 2] No such file or directory: './data/subway_2016.csv'"
          ]
        }
      ]
    }
  ]
}
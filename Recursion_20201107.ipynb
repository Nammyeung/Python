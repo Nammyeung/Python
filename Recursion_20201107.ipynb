{
  "nbformat": 4,
  "nbformat_minor": 0,
  "metadata": {
    "colab": {
      "name": "Recursion_20201107.ipynb",
      "provenance": [],
      "authorship_tag": "ABX9TyN404xy+9jJ/mWZ/8cA6lpz",
      "include_colab_link": true
    },
    "kernelspec": {
      "name": "python3",
      "display_name": "Python 3"
    }
  },
  "cells": [
    {
      "cell_type": "markdown",
      "metadata": {
        "id": "view-in-github",
        "colab_type": "text"
      },
      "source": [
        "<a href=\"https://colab.research.google.com/github/Nammyeung/Python/blob/master/Recursion_20201107.ipynb\" target=\"_parent\"><img src=\"https://colab.research.google.com/assets/colab-badge.svg\" alt=\"Open In Colab\"/></a>"
      ]
    },
    {
      "cell_type": "code",
      "metadata": {
        "id": "nYONJ0iWm9nj",
        "outputId": "75c0324a-f2e0-44f2-e2a5-6755e16831ce",
        "colab": {
          "base_uri": "https://localhost:8080/"
        }
      },
      "source": [
        "\n",
        "# 예시 1 - 순차탐색\n",
        "\n",
        "def search(li, begin, end, target):\n",
        "  if begin>end:\n",
        "    return -1\n",
        "  elif target == li[begin]:\n",
        "    return begin\n",
        "  else:\n",
        "    return search(li, begin+1, end, target)\n",
        "\n",
        "li = [1, 6, 10, 7, 2, 5]\n",
        "target = 10\n",
        "search(li, 0, 5, 10) # 2\n",
        "\n",
        "# 예시 2 - 2진수 변환\n",
        "\n",
        "def print_binary(n):\n",
        "  if n<2:\n",
        "    print(n, end='')\n",
        "  else:\n",
        "    print_binary(n//2)\n",
        "    print(n%2,end='')\n",
        "\n",
        "print_binary(15) #1111\n",
        "\n",
        "'''\n",
        "# 예시 3 - 최소공배수\n",
        "def u(s, e):\n",
        "  if e==0:\n",
        "    return s\n",
        "    return u(e, s%e)\n",
        "\n",
        "a,b=map(int,input().split(','))\n",
        "g=u(a,b)\n",
        "l=(a*b)//u(a,b)\n",
        "\n",
        "print('최대공약수 = ', g)\n",
        "print('최소공배수 = ', l)\n",
        "'''\n",
        "\n",
        "# 예시 4 - 배열의 합\n",
        "\n",
        "def sum(n, li):\n",
        "  if n<=0 or n >= len(li):\n",
        "    return 0\n",
        "  return li[n-1] + sm(n-1, li)\n",
        "li = [1, 2, 3, 4, 5]\n",
        "n = 5\n",
        "sum(n, li)\n",
        "\n",
        "# 예시 - 0~n 까지의 합계 구하기\n",
        "def sum(n): # 이 함수의 목표는 0~n 까지의 합을 구하는 것이다.\n",
        "  if n == 0: # n = 0 이면 합은 0이다.\n",
        "    return 0\n",
        "  return n + sum(n-1) # n이 0보다 크면 0에서 n까지의 합은, n-1까지의 합에 n을 더한 것이다.\n",
        "\n",
        "sum(4) # 10\n",
        "\n",
        "# 예시 5 - 1~n 까지의 곱 구하기\n",
        "def factorial(n):\n",
        "  if n == 0:\n",
        "    return 1\n",
        "  return n * factorial(n-1)\n",
        "\n",
        "factorial(4)\n",
        "\n",
        "# 예시 6 - x^n 구현\n",
        "def power(x, n):\n",
        "  if n == 0:\n",
        "    return 1\n",
        "  return x * power(x, n-1)\n",
        "\n",
        "power(2,10) # 1024\n",
        "\n",
        "# 예시 7 - 피보나치 수열\n",
        "\n",
        "# 피보나치 수열의 index n의 값을 리턴\n",
        "# 피보나치 수열 : 1, 1, 2, 3, 5, 8, 13, 21, 34 ...\n",
        "def fibo(n):\n",
        "    # 재귀함수는 탈출조건이 꼭 필요하다.\n",
        "    if n == 0 or n == 1:\n",
        "        return 1\n",
        "    return fibo(n-2) + fibo(n-1)\n",
        "\n",
        "# 예시 8 - 피보나치 수열\n",
        "\n",
        "# index n까지의 피보나치 수열 구하기\n",
        "def fibo_list(n):\n",
        "    for i in range(n):\n",
        "        print(fibo(i), end= \" \")\n",
        "\n",
        "\n",
        "# 예시 9 - 하노이 타워\n",
        "\n",
        "def hanoi(num, _from, _by, _to):\n",
        "    #탈출 조건\n",
        "    if num == 1:\n",
        "        print(\"{}에서 {}로 {} 번째 원반 이동\".format(_from, _to, num))\n",
        "        return\n",
        "\n",
        "    hanoi(num-1, _from, _to, _by)\n",
        "    print(\"{}에서 {}로 {} 번째 원반 이동\".format(_from, _to, num))\n",
        "    hanoi(num-1, _by, _from, _to)\n",
        "\n",
        "if __name__ == \"__main__\":\n",
        "    while 1:\n",
        "        numOfTray = int(input(\"원반의 개수를 입력하세요!(종료 : 0) :\"))\n",
        "        if numOfTray == 0:\n",
        "            break\n",
        "        hanoi(numOfTray, 'A', 'B', 'C')"
      ],
      "execution_count": 16,
      "outputs": [
        {
          "output_type": "stream",
          "text": [
            "1111"
          ],
          "name": "stdout"
        },
        {
          "output_type": "execute_result",
          "data": {
            "text/plain": [
              "1024"
            ]
          },
          "metadata": {
            "tags": []
          },
          "execution_count": 16
        }
      ]
    }
  ]
}
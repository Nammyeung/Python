{
  "nbformat": 4,
  "nbformat_minor": 0,
  "metadata": {
    "colab": {
      "name": "[프로그래머스] 주식가격 in python.ipynb",
      "provenance": [],
      "authorship_tag": "ABX9TyNpvX53Hw/bjpU3fHXiEBc8",
      "include_colab_link": true
    },
    "kernelspec": {
      "name": "python3",
      "display_name": "Python 3"
    }
  },
  "cells": [
    {
      "cell_type": "markdown",
      "metadata": {
        "id": "view-in-github",
        "colab_type": "text"
      },
      "source": [
        "<a href=\"https://colab.research.google.com/github/Nammyeung/Python/blob/master/%5B%ED%94%84%EB%A1%9C%EA%B7%B8%EB%9E%98%EB%A8%B8%EC%8A%A4%5D_%EC%A3%BC%EC%8B%9D%EA%B0%80%EA%B2%A9_in_python.ipynb\" target=\"_parent\"><img src=\"https://colab.research.google.com/assets/colab-badge.svg\" alt=\"Open In Colab\"/></a>"
      ]
    },
    {
      "cell_type": "code",
      "metadata": {
        "colab": {
          "base_uri": "https://localhost:8080/"
        },
        "id": "BNWUFrdQCD6j",
        "outputId": "c64970a0-1309-45a4-ef0e-d4365c34587e"
      },
      "source": [
        "def solution(prices):\n",
        "  answer = [0]*len(prices)\n",
        "  for i in range(len(prices)-1) :\n",
        "    for j in range(i+1, len(prices)):\n",
        "      answer[i] += 1\n",
        "      if prices[i]>prices[j] : break\n",
        "\n",
        "  return answer\n",
        "\n",
        "prices = [1,2,3,2,3]\n",
        "solution(prices)"
      ],
      "execution_count": 1,
      "outputs": [
        {
          "output_type": "execute_result",
          "data": {
            "text/plain": [
              "[4, 3, 1, 1, 0]"
            ]
          },
          "metadata": {
            "tags": []
          },
          "execution_count": 1
        }
      ]
    }
  ]
}
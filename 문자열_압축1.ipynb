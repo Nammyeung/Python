{
  "nbformat": 4,
  "nbformat_minor": 0,
  "metadata": {
    "colab": {
      "name": "문자열 압축1.ipynb",
      "provenance": [],
      "authorship_tag": "ABX9TyPYltMwLdvCqIWb7BhrjLFx",
      "include_colab_link": true
    },
    "kernelspec": {
      "name": "python3",
      "display_name": "Python 3"
    }
  },
  "cells": [
    {
      "cell_type": "markdown",
      "metadata": {
        "id": "view-in-github",
        "colab_type": "text"
      },
      "source": [
        "<a href=\"https://colab.research.google.com/github/Nammyeung/Python/blob/master/%EB%AC%B8%EC%9E%90%EC%97%B4_%EC%95%95%EC%B6%951.ipynb\" target=\"_parent\"><img src=\"https://colab.research.google.com/assets/colab-badge.svg\" alt=\"Open In Colab\"/></a>"
      ]
    },
    {
      "cell_type": "code",
      "metadata": {
        "id": "ojn7eSkCkLxY"
      },
      "source": [
        "def solution(s):\n",
        "    length = []\n",
        "    result = \"\"\n",
        "    \n",
        "    if len(s) == 1:\n",
        "        return 1\n",
        "    \n",
        "    for cut in range(1, len(s) // 2 + 1): \n",
        "        count = 1\n",
        "        tempStr = s[:cut] \n",
        "        for i in range(cut, len(s), cut):\n",
        "            if s[i:i+cut] == tempStr:\n",
        "                count += 1\n",
        "            else:\n",
        "                if count == 1:\n",
        "                    count = \"\"\n",
        "                result += str(count) + tempStr\n",
        "                tempStr = s[i:i+cut]\n",
        "                count = 1\n",
        "\n",
        "        if count == 1:\n",
        "            count = \"\"\n",
        "        result += str(count) + tempStr\n",
        "        length.append(len(result))\n",
        "        result = \"\"\n",
        "    \n",
        "    return min(length)\n",
        "\n",
        "#https://velog.io/@devjuun_s/%EC%97%B0%EA%B2%B0-%EC%9A%94%EC%86%8C%EC%9D%98-%EA%B0%9C%EC%88%98-%EB%B0%B1%EC%A4%80-11724%EB%B2%88python"
      ],
      "execution_count": null,
      "outputs": []
    }
  ]
}
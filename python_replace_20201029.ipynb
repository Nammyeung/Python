{
  "nbformat": 4,
  "nbformat_minor": 0,
  "metadata": {
    "colab": {
      "name": "python replace_20201029.ipynb",
      "provenance": [],
      "authorship_tag": "ABX9TyO9M2rFUgiGJGtE89WF6/7N",
      "include_colab_link": true
    },
    "kernelspec": {
      "name": "python3",
      "display_name": "Python 3"
    }
  },
  "cells": [
    {
      "cell_type": "markdown",
      "metadata": {
        "id": "view-in-github",
        "colab_type": "text"
      },
      "source": [
        "<a href=\"https://colab.research.google.com/github/Nammyeung/Python/blob/master/python_replace_20201029.ipynb\" target=\"_parent\"><img src=\"https://colab.research.google.com/assets/colab-badge.svg\" alt=\"Open In Colab\"/></a>"
      ]
    },
    {
      "cell_type": "code",
      "metadata": {
        "id": "trvwNqedEMRc"
      },
      "source": [
        "#replace(old, new, [count]) -> replace(\"찾을값\", \"바꿀값\", [바꿀횟수])\n",
        "\n",
        "# 1. 전체 문자열에서 원하는 부분 변경\n",
        "\n",
        "a = \"hello, world!\"\n",
        "r1 = a.replace(\"!\",\"?\")\n",
        "r2 = a.replace(\",\",\"\")\n",
        "\n",
        "# 2. 전체 문자열에서 일부분만 변경\n",
        "\n",
        "text = \"123 456 789 101112\"\n",
        "repleall = text.replace(\" \",\",\")\n",
        "repleone = text.replace(\" \",\",\",1)\n",
        "repletwo = text.replace(\" \",\",\",2)"
      ],
      "execution_count": null,
      "outputs": []
    }
  ]
}
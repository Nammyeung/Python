{
  "nbformat": 4,
  "nbformat_minor": 0,
  "metadata": {
    "colab": {
      "name": "Balanced Brackets.ipynb",
      "provenance": [],
      "authorship_tag": "ABX9TyOxeDNNaPYhA+fR2nZAJGlM",
      "include_colab_link": true
    },
    "kernelspec": {
      "name": "python3",
      "display_name": "Python 3"
    }
  },
  "cells": [
    {
      "cell_type": "markdown",
      "metadata": {
        "id": "view-in-github",
        "colab_type": "text"
      },
      "source": [
        "<a href=\"https://colab.research.google.com/github/Nammyeung/Python/blob/master/Balanced_Brackets.ipynb\" target=\"_parent\"><img src=\"https://colab.research.google.com/assets/colab-badge.svg\" alt=\"Open In Colab\"/></a>"
      ]
    },
    {
      "cell_type": "code",
      "metadata": {
        "id": "KqUHotyKS1RC",
        "colab_type": "code",
        "colab": {
          "base_uri": "https://localhost:8080/",
          "height": 54
        },
        "outputId": "fc02619d-8ca6-4783-87f2-86462c3494ce"
      },
      "source": [
        "lefts = '{[('\n",
        "rights = '}])'\n",
        "closes = { a:b for a,b in zip(rights, lefts)} #key와 value를 활용하는데 좋을듯\n",
        "print(closes)\n",
        "\n",
        "def valid(s):\n",
        "  stack = []\n",
        "  for c in s:\n",
        "    if c in lefts:\n",
        "      stack.append(c)\n",
        "    elif c in rights:\n",
        "      if not stack or stack.pop() != closes[c]:\n",
        "        return False\n",
        "  return not stack #stack must be empty at the end\n",
        "\n",
        "print(\"총 반복 횟수를 입력하시오\")\n",
        "t = int(input().strip())\n",
        "for a0 in range(t):\n",
        "  s = input().strip()\n",
        "  if valid(s): #true 인 경우\n",
        "    print('YES')\n",
        "  else: #false 인 경우\n",
        "    print('NO')"
      ],
      "execution_count": null,
      "outputs": [
        {
          "output_type": "stream",
          "text": [
            "{'}': '{', ']': '[', ')': '('}\n"
          ],
          "name": "stdout"
        }
      ]
    }
  ]
}
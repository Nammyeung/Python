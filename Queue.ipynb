{
  "nbformat": 4,
  "nbformat_minor": 0,
  "metadata": {
    "colab": {
      "name": "Queue.ipynb",
      "provenance": [],
      "authorship_tag": "ABX9TyMSWw/BvFYh/kQJdqqictD9",
      "include_colab_link": true
    },
    "kernelspec": {
      "name": "python3",
      "display_name": "Python 3"
    }
  },
  "cells": [
    {
      "cell_type": "markdown",
      "metadata": {
        "id": "view-in-github",
        "colab_type": "text"
      },
      "source": [
        "<a href=\"https://colab.research.google.com/github/Nammyeung/Python/blob/master/Queue.ipynb\" target=\"_parent\"><img src=\"https://colab.research.google.com/assets/colab-badge.svg\" alt=\"Open In Colab\"/></a>"
      ]
    },
    {
      "cell_type": "code",
      "metadata": {
        "id": "QuUXpeeYqUHo",
        "outputId": "05e15cbb-d46e-4326-bdb4-6ddad99ff902",
        "colab": {
          "base_uri": "https://localhost:8080/",
          "height": 107
        }
      },
      "source": [
        "import queue\n",
        "\n",
        "data_queue = queue.Queue()\n",
        "\n",
        "#put - enqueue\n",
        "\n",
        "data_queue.put(\"apple\")\n",
        "data_queue.put(\"kobe\")\n",
        "\n",
        "print(data_queue)\n",
        "data_queue.qsize()\n",
        "\n",
        "# get - dequeue\n",
        "\n",
        "print(data_queue.get())\n",
        "\n",
        "print(data_queue.get())\n",
        "\n",
        "data_queue.qsize()\n",
        "\n",
        "import queue\n",
        "data_queue = queue.LifoQueue()\n",
        "\n",
        "data_queue.put(\"kobe\")\n",
        "data_queue.put(24)\n",
        "\n",
        "data_queue.qsize()\n",
        "\n",
        "data_queue.get()\n",
        "\n",
        "data_queue.get()\n",
        "\n",
        "import queue\n",
        "\n",
        "data_queue = queue.PriorityQueue()\n",
        "\n",
        "data_queue.put((10,\"kobe\"))\n",
        "data_queue.put((5,8))\n",
        "data_queue.put((15,'usa'))\n",
        "\n",
        "data_queue.qsize()\n",
        "\n",
        "#우선순위가 낮을수록 먼저 나옵니다.\n",
        "data_queue.get()\n",
        "\n",
        "data_queue.get()\n",
        "\n",
        "#FIFO\n",
        "\n",
        "def enqueue(n):\n",
        "  q_list.append(n)\n",
        "\n",
        "def dequeue():\n",
        "  return q_list.pop(0)\n",
        "\n",
        "q_list = list()\n",
        "for num in range(24):\n",
        "  enqueue(num)\n",
        "\n",
        "print(q_list)\n",
        "\n",
        "dequeue()\n",
        "\n",
        "dequeue()\n",
        "\n",
        "queue_list = list()\n",
        "\n",
        "def enqueue(data):\n",
        "  queue_list.append(data)\n",
        "\n",
        "def dequeue():\n",
        "  data = queue_list[0]\n",
        "  del queue_list[0]\n",
        "  return data\n",
        "\n",
        "for index in range(10):\n",
        "  enqueue(index)\n",
        "\n",
        "len(queue_list)\n",
        "\n",
        "dequeue()\n",
        "\n"
      ],
      "execution_count": 8,
      "outputs": [
        {
          "output_type": "stream",
          "text": [
            "<queue.Queue object at 0x7fccbee446a0>\n",
            "apple\n",
            "kobe\n",
            "[0, 1, 2, 3, 4, 5, 6, 7, 8, 9, 10, 11, 12, 13, 14, 15, 16, 17, 18, 19, 20, 21, 22, 23]\n"
          ],
          "name": "stdout"
        },
        {
          "output_type": "execute_result",
          "data": {
            "text/plain": [
              "0"
            ]
          },
          "metadata": {
            "tags": []
          },
          "execution_count": 8
        }
      ]
    }
  ]
}
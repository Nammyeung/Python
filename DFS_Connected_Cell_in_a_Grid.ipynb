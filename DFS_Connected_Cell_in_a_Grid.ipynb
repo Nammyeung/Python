{
  "nbformat": 4,
  "nbformat_minor": 0,
  "metadata": {
    "colab": {
      "name": "DFS: Connected Cell in a Grid.ipynb",
      "provenance": [],
      "collapsed_sections": [],
      "authorship_tag": "ABX9TyO3ugjgHlV66yVlFi8t1XZk",
      "include_colab_link": true
    },
    "kernelspec": {
      "name": "python3",
      "display_name": "Python 3"
    }
  },
  "cells": [
    {
      "cell_type": "markdown",
      "metadata": {
        "id": "view-in-github",
        "colab_type": "text"
      },
      "source": [
        "<a href=\"https://colab.research.google.com/github/Nammyeung/Python/blob/master/DFS_Connected_Cell_in_a_Grid.ipynb\" target=\"_parent\"><img src=\"https://colab.research.google.com/assets/colab-badge.svg\" alt=\"Open In Colab\"/></a>"
      ]
    },
    {
      "cell_type": "code",
      "metadata": {
        "id": "vlVVyBnownVT",
        "colab_type": "code",
        "colab": {
          "base_uri": "https://localhost:8080/",
          "height": 90
        },
        "outputId": "4a359bf0-2aed-4ef9-eb4f-841aa25bec3f"
      },
      "source": [
        "#!/bin/python3\n",
        "\n",
        "import math\n",
        "import os\n",
        "import random\n",
        "import re\n",
        "import sys\n",
        "\n",
        "# Complete the maxRegion function below.\n",
        "#def maxRegion(grid):\n",
        "\n",
        "def getBiggestRegion(grid,m,n):\n",
        "   def size(i,j):\n",
        "      if 0 <= i < len(grid) and 0 <= j < len(grid[i]) and grid[i][j] == 1:\n",
        "         grid[i][j] = 0\n",
        "         return 1 + sum(size(i2,j2) for i2 in range(i-1,i+2) for j2 in range(j-1,j+2))\n",
        "      return 0\n",
        "   return max(size(i,j) for i in range(n) for j in range(m))\n",
        "    \n",
        "print(\"The first line contains an integer, n, the number of rows in the matrix, grid.\")\n",
        "n = int(input())\n",
        "\n",
        "print(\"The second line contains an integer,m , the number of columns in the matrix.\")\n",
        "m = int(input())\n",
        "\n",
        "grid = []\n",
        "\n",
        "for _ in range(n):\n",
        "    print(\"Each of the following  lines contains a row of m space-separated integers, grid[i][j].\")\n",
        "    grid.append(list(map(int, input().rstrip().split())))\n",
        "\n",
        "\n",
        "res = getBiggestRegion(grid,m,n) \n",
        "#res = maxRegion(grid)\n",
        "\n",
        "print(res)"
      ],
      "execution_count": null,
      "outputs": [
        {
          "output_type": "stream",
          "text": [
            "1\n",
            "2\n",
            "The first line contains an integer, n, the number of rows in the matrix, grid.\n"
          ],
          "name": "stdout"
        }
      ]
    }
  ]
}
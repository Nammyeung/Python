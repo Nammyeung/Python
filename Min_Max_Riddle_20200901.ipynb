{
  "nbformat": 4,
  "nbformat_minor": 0,
  "metadata": {
    "colab": {
      "name": "Min_Max_Riddle_20200901.ipynb",
      "provenance": [],
      "collapsed_sections": [],
      "authorship_tag": "ABX9TyMEF26F8sHqyuiN4CsCNf1a",
      "include_colab_link": true
    },
    "kernelspec": {
      "name": "python3",
      "display_name": "Python 3"
    }
  },
  "cells": [
    {
      "cell_type": "markdown",
      "metadata": {
        "id": "view-in-github",
        "colab_type": "text"
      },
      "source": [
        "<a href=\"https://colab.research.google.com/github/Nammyeung/Python/blob/master/Min_Max_Riddle_20200901.ipynb\" target=\"_parent\"><img src=\"https://colab.research.google.com/assets/colab-badge.svg\" alt=\"Open In Colab\"/></a>"
      ]
    },
    {
      "cell_type": "code",
      "metadata": {
        "id": "qPRsX2ZbmYV2",
        "colab_type": "code",
        "colab": {
          "base_uri": "https://localhost:8080/",
          "height": 431
        },
        "outputId": "0917f090-724c-40eb-8bfa-ba8c22f5b45e"
      },
      "source": [
        "import math\n",
        "import os\n",
        "import random\n",
        "import re\n",
        "import sys\n",
        "\n",
        "def riddle(arr):\n",
        "  n = len(arr)\n",
        "  print(\"None을 담는다.\")\n",
        "  max_mins = [None]*n # n개 크기의 none 원소를 가진 리스트를 출력\n",
        "  print(\"max_mins\")\n",
        "  print(max_mins)\n",
        "  stack = [] # will store (num, index)\n",
        "  for i in range(n):\n",
        "        #print('stack', stack)\n",
        "        #print('max_mins', max_mins)\n",
        "        # remember to \"push back\"\n",
        "        _m = i\n",
        "        #stack이 비어있지 않으면서, peek값이 현재보다 큰 경우?\n",
        "        print(\"stack[-1][0] : \")\n",
        "        if(len(stack) > 0) :\n",
        "          print(stack[-1][0])\n",
        "\n",
        "        print(\"arr[i] : \")\n",
        "        print(arr[i])\n",
        "        while len(stack) > 0 and stack[-1][0] > arr[i]:\n",
        "            _v, _i = stack.pop(-1)\n",
        "            w = i - _i\n",
        "            #w는 범위를 뜻한다. \n",
        "            for _w in range(w): # note that it's zero indexed and shifted down\n",
        "                if max_mins[_w] is None:\n",
        "                    max_mins[_w] = _v\n",
        "                else:\n",
        "                    max_mins[_w] = max(max_mins[_w], _v)\n",
        "            _m = _i # get the smallest index at which we could start\n",
        "        stack.append((arr[i],_m))\n",
        "\n",
        "  # these were the minima for all this time\n",
        "  while len(stack) > 0:\n",
        "        #print('stack', stack)\n",
        "        #print('max_mins', max_mins)\n",
        "        _v, _i = stack.pop(-1)\n",
        "        w = n - _i\n",
        "        for _w in range(w):\n",
        "            if max_mins[_w] is None:\n",
        "                max_mins[_w] = _v\n",
        "            else:\n",
        "                max_mins[_w] = max(max_mins[_w], _v)\n",
        "  return max_mins\n",
        "\n",
        "\n",
        "#fptr = open(os.environ['OUTPUT_PATH'], 'w')\n",
        "print(\"배열의 크기를 입력하시오 : \")\n",
        "n = int(input())\n",
        "\n",
        "print(\"배열의 원소를 크기에 맞게 입력하시오 : \")\n",
        "arr = list(map(int, input().rstrip().split()))\n",
        "\n",
        "res = riddle(arr)\n",
        "print(res)\n",
        "#fptr.write(' '.join(map(str, res)))\n",
        "#fptr.write('\\n')\n",
        "\n",
        "#fptr.close()"
      ],
      "execution_count": 4,
      "outputs": [
        {
          "output_type": "stream",
          "text": [
            "배열의 크기를 입력하시오 : \n",
            "4\n",
            "배열의 원소를 크기에 맞게 입력하시오 : \n",
            "2 6 1 12\n",
            "None을 담는다.\n",
            "max_mins\n",
            "[None, None, None, None]\n",
            "stack[-1][0] : \n",
            "arr[i] : \n",
            "2\n",
            "stack[-1][0] : \n",
            "2\n",
            "arr[i] : \n",
            "6\n",
            "stack[-1][0] : \n",
            "6\n",
            "arr[i] : \n",
            "1\n",
            "stack[-1][0] : \n",
            "1\n",
            "arr[i] : \n",
            "12\n",
            "[12, 2, 1, 1]\n"
          ],
          "name": "stdout"
        }
      ]
    }
  ]
}
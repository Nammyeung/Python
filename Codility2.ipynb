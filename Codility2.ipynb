{
  "nbformat": 4,
  "nbformat_minor": 0,
  "metadata": {
    "colab": {
      "name": "Codility2.ipynb",
      "provenance": [],
      "authorship_tag": "ABX9TyNfKHRWYCmbBSHtIkqAx4xO",
      "include_colab_link": true
    },
    "kernelspec": {
      "name": "python3",
      "display_name": "Python 3"
    }
  },
  "cells": [
    {
      "cell_type": "markdown",
      "metadata": {
        "id": "view-in-github",
        "colab_type": "text"
      },
      "source": [
        "<a href=\"https://colab.research.google.com/github/Nammyeung/Python/blob/master/Codility2.ipynb\" target=\"_parent\"><img src=\"https://colab.research.google.com/assets/colab-badge.svg\" alt=\"Open In Colab\"/></a>"
      ]
    },
    {
      "cell_type": "code",
      "metadata": {
        "id": "Nxo9q9-7oapI",
        "outputId": "e275018c-82a2-4212-c9f8-861bff015461",
        "colab": {
          "base_uri": "https://localhost:8080/"
        }
      },
      "source": [
        "def solution(A):\n",
        "  reducePos = 0\n",
        "  for i in range(1, len(A)):\n",
        "    print(\"A[i - 1] : \", A[i - 1])\n",
        "    print(\"A[i] : \", A[i])\n",
        "    if A[i - 1] > A[i]:\n",
        "      if reducePos != 0: # cut more trees\n",
        "        return 0\n",
        "      else:\n",
        "        reducePos = i\n",
        "        print(\"reducePos\" , reducePos)\n",
        "\n",
        "  if reducePos == 0: # already sorted\n",
        "    return len(A)\n",
        "\n",
        "  count = 0\n",
        "  print(\"[reducePos - 1, reducePos] : \", [reducePos - 1, reducePos])\n",
        "  for i in [reducePos - 1, reducePos]:\n",
        "    if i == 0 or i == len(A) - 1 or A[i - 1] <= A[i + 1]:\n",
        "      count += 1\n",
        "      print(\"count : \", count)\n",
        "  return count\n",
        "\n",
        "A = [1, 4, 7, 5, 4, 7, 6, 8, 3, 7 , 10]\n",
        "solution(A)"
      ],
      "execution_count": 4,
      "outputs": [
        {
          "output_type": "stream",
          "text": [
            "A[i - 1] :  1\n",
            "A[i] :  4\n",
            "A[i - 1] :  4\n",
            "A[i] :  7\n",
            "A[i - 1] :  7\n",
            "A[i] :  5\n",
            "reducePos 3\n",
            "A[i - 1] :  5\n",
            "A[i] :  4\n"
          ],
          "name": "stdout"
        },
        {
          "output_type": "execute_result",
          "data": {
            "text/plain": [
              "0"
            ]
          },
          "metadata": {
            "tags": []
          },
          "execution_count": 4
        }
      ]
    }
  ]
}
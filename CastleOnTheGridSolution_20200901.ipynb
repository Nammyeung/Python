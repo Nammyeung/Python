{
  "nbformat": 4,
  "nbformat_minor": 0,
  "metadata": {
    "colab": {
      "name": "CastleOnTheGridSolution_20200901.ipynb의 사본",
      "provenance": [],
      "authorship_tag": "ABX9TyMmSyKFFg4WZ9wNBXlAPG4w",
      "include_colab_link": true
    },
    "kernelspec": {
      "name": "python3",
      "display_name": "Python 3"
    }
  },
  "cells": [
    {
      "cell_type": "markdown",
      "metadata": {
        "id": "view-in-github",
        "colab_type": "text"
      },
      "source": [
        "<a href=\"https://colab.research.google.com/github/Nammyeung/Python/blob/master/CastleOnTheGridSolution_20200901.ipynb\" target=\"_parent\"><img src=\"https://colab.research.google.com/assets/colab-badge.svg\" alt=\"Open In Colab\"/></a>"
      ]
    },
    {
      "cell_type": "code",
      "metadata": {
        "id": "OSfgoBzz3s5A",
        "colab_type": "code",
        "colab": {}
      },
      "source": [
        "def Sol( data, a,b,c,d ):\n",
        "    seen = set()\n",
        "    Q = [ (a,b,0) ]\n",
        "    while Q:\n",
        "        a,b,dist = Q.pop(0)\n",
        "        if (a,b) == (c,d): return dist\n",
        "        if (a,b) in seen: continue\n",
        "        seen.add( (a,b) )\n",
        "        temp = a-1\n",
        "        while temp >= 0:\n",
        "            if data[ temp ][ b ] == 'X': break\n",
        "            Q.append( (temp,b,dist+1) )\n",
        "            temp-=1\n",
        "        temp = a+1\n",
        "        while temp < len(data):\n",
        "            if data[ temp ][ b ] == 'X': break\n",
        "            Q.append( (temp,b,dist+1) )\n",
        "            temp+=1\n",
        "        temp = b-1\n",
        "        while temp >= 0:\n",
        "            if data[ a ][ temp ] == 'X': break\n",
        "            Q.append( (a,temp,dist+1) )\n",
        "            temp-=1\n",
        "        temp = b+1\n",
        "        while temp < len(data):\n",
        "            if data[ a ][ temp ] == 'X': break\n",
        "            Q.append( (a,temp,dist+1) )\n",
        "            temp+=1\n",
        "\n",
        "N = int(input())\n",
        "data = []\n",
        "for _ in range(N):\n",
        "    data.append( input() )\n",
        "a,b,c,d = map(int,input().split())\n",
        "print(Sol(data,a,b,c,d))\n",
        "\n",
        "#https://solution.programmingoneonone.com/2020/07/hackerrank-castle-on-the-grid-solution.html"
      ],
      "execution_count": null,
      "outputs": []
    }
  ]
}
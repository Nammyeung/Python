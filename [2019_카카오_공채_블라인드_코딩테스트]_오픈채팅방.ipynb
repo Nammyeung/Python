{
  "nbformat": 4,
  "nbformat_minor": 0,
  "metadata": {
    "colab": {
      "name": "[2019 카카오 공채 블라인드 코딩테스트] 오픈채팅방.ipynb",
      "provenance": [],
      "authorship_tag": "ABX9TyPBKclBkj1pgBJpxNOC6nmf",
      "include_colab_link": true
    },
    "kernelspec": {
      "name": "python3",
      "display_name": "Python 3"
    }
  },
  "cells": [
    {
      "cell_type": "markdown",
      "metadata": {
        "id": "view-in-github",
        "colab_type": "text"
      },
      "source": [
        "<a href=\"https://colab.research.google.com/github/Nammyeung/Python/blob/master/%5B2019_%EC%B9%B4%EC%B9%B4%EC%98%A4_%EA%B3%B5%EC%B1%84_%EB%B8%94%EB%9D%BC%EC%9D%B8%EB%93%9C_%EC%BD%94%EB%94%A9%ED%85%8C%EC%8A%A4%ED%8A%B8%5D_%EC%98%A4%ED%94%88%EC%B1%84%ED%8C%85%EB%B0%A9.ipynb\" target=\"_parent\"><img src=\"https://colab.research.google.com/assets/colab-badge.svg\" alt=\"Open In Colab\"/></a>"
      ]
    },
    {
      "cell_type": "code",
      "metadata": {
        "colab": {
          "base_uri": "https://localhost:8080/"
        },
        "id": "GPVbmgEFQkBe",
        "outputId": "3c7bb3c0-4011-4828-d4ee-e0d9846182ad"
      },
      "source": [
        "def solution(record):\n",
        "  # 문자열을 리스트로 변환(공백 기준)\n",
        "  records = list(map(lambda s: s.split(), record))\n",
        "  print(\"records : \" , records)\n",
        "\n",
        "  # 로그인, 로그아웃을 구분해주기 위한 딕셔너리 정의\n",
        "  massage = {'Enter':'님이 들어왔습니다.', 'Leave':'님이 나갔습니다.'}\n",
        "\n",
        "  # 유저 아이디를 KEY로 갖고 닉네임을 VALUE로 갖는 딕셔너리 생성(중복 제거를 위함)\n",
        "  result = {}\n",
        "  for i in range(len(records)):\n",
        "    if records[i][0] in ['Enter', 'Change']:\n",
        "      result[records[i][1]] = records[i][2]\n",
        "      print(\"result : \" , result)\n",
        "\n",
        "  # 로그인, 로그아웃 메세지 생성\n",
        "  answer = []\n",
        "  for i in range(len(records)):\n",
        "    if records[i][0] in ['Enter', 'Leave']:\n",
        "      answer.append(result[records[i][1]]+massage[records[i][0]])\n",
        "\n",
        "  # 메세지 반환\n",
        "  return answer\n",
        "\n",
        "record = [\"Enter uid1234 Muzi\", \"Enter uid4567 Prodo\", \"Leave uid1234\", \"Enter uid1234 Prodo\", \"Change uid4567 Ryan\"]\n",
        "result = [\"Prodo님이 들어왔습니다.\", \"Ryan님이 들어왔습니다.\", \"Prodo님이 나갔습니다.\", \"Prodo님이 들어왔습니다.\"]\n",
        "solution(record)"
      ],
      "execution_count": 8,
      "outputs": [
        {
          "output_type": "stream",
          "text": [
            "records :  [['Enter', 'uid1234', 'Muzi'], ['Enter', 'uid4567', 'Prodo'], ['Leave', 'uid1234'], ['Enter', 'uid1234', 'Prodo'], ['Change', 'uid4567', 'Ryan']]\n",
            "result :  {'uid1234': 'Muzi'}\n",
            "result :  {'uid1234': 'Muzi', 'uid4567': 'Prodo'}\n",
            "result :  {'uid1234': 'Prodo', 'uid4567': 'Prodo'}\n",
            "result :  {'uid1234': 'Prodo', 'uid4567': 'Ryan'}\n"
          ],
          "name": "stdout"
        },
        {
          "output_type": "execute_result",
          "data": {
            "text/plain": [
              "['Prodo님이 들어왔습니다.', 'Ryan님이 들어왔습니다.', 'Prodo님이 나갔습니다.', 'Prodo님이 들어왔습니다.']"
            ]
          },
          "metadata": {
            "tags": []
          },
          "execution_count": 8
        }
      ]
    },
    {
      "cell_type": "code",
      "metadata": {
        "colab": {
          "base_uri": "https://localhost:8080/"
        },
        "id": "OkhzWSZdbGD8",
        "outputId": "5fd8f231-328a-41a7-9637-706be9c29fc9"
      },
      "source": [
        "def solution(record):\n",
        "  answer = []\n",
        "  namespace = {}\n",
        "  printer = {'Enter':'님이 들어왔습니다.', 'Leave':'님이 나갔습니다.'}\n",
        "  for r in record:\n",
        "    rr = r.split(' ')\n",
        "    if rr[0] in ['Enter', 'Change']:\n",
        "      namespace[rr[1]] = rr[2]\n",
        "\n",
        "  for r in record:\n",
        "    if r.split(' ')[0] != 'Change':\n",
        "      answer.append(namespace[r.split(' ')[1]] + printer[r.split(' ')[0]])\n",
        "\n",
        "  return answer\n",
        "\n",
        "record = [\"Enter uid1234 Muzi\", \"Enter uid4567 Prodo\", \"Leave uid1234\", \"Enter uid1234 Prodo\", \"Change uid4567 Ryan\"]\n",
        "result = [\"Prodo님이 들어왔습니다.\", \"Ryan님이 들어왔습니다.\", \"Prodo님이 나갔습니다.\", \"Prodo님이 들어왔습니다.\"]\n",
        "solution(record)"
      ],
      "execution_count": 11,
      "outputs": [
        {
          "output_type": "execute_result",
          "data": {
            "text/plain": [
              "['Prodo님이 들어왔습니다.', 'Ryan님이 들어왔습니다.', 'Prodo님이 나갔습니다.', 'Prodo님이 들어왔습니다.']"
            ]
          },
          "metadata": {
            "tags": []
          },
          "execution_count": 11
        }
      ]
    },
    {
      "cell_type": "code",
      "metadata": {
        "colab": {
          "base_uri": "https://localhost:8080/"
        },
        "id": "eZP_zG8mcLS9",
        "outputId": "bd4fc4d0-bc1e-4e44-eb7b-0ec63abfe5b1"
      },
      "source": [
        "def solution(record):\n",
        "  userDict = {}\n",
        "  answer = []\n",
        "\n",
        "  for line in record:\n",
        "    line = line.split(\" \")\n",
        "    print(\"line : \" , line)\n",
        "\n",
        "    if line[0] == \"Enter\":\n",
        "      userDict[line[1]] = line[2]\n",
        "    elif line[0] == \"Change\":\n",
        "      userDict[line[1]] = line[2]\n",
        "    print(\"userDict : \" , userDict)\n",
        "\n",
        "  for line in record:\n",
        "    line = line.split(\" \")\n",
        "    targetString = userDict[line[1]]\n",
        "    print(\"targetString : \" , targetString)\n",
        "    if line[0] == \"Enter\":\n",
        "      targetString += \"님이 들어왔습니다.\"\n",
        "    elif line[0] == \"Leave\":\n",
        "      targetString += \"님이 나갔습니다.\"\n",
        "    else:\n",
        "      continue\n",
        "    answer.append(targetString)\n",
        "\n",
        "  return answer\n",
        "\n",
        "record = [\"Enter uid1234 Muzi\", \"Enter uid4567 Prodo\", \"Leave uid1234\", \"Enter uid1234 Prodo\", \"Change uid4567 Ryan\"]\n",
        "result = [\"Prodo님이 들어왔습니다.\", \"Ryan님이 들어왔습니다.\", \"Prodo님이 나갔습니다.\", \"Prodo님이 들어왔습니다.\"]\n",
        "solution(record)"
      ],
      "execution_count": 15,
      "outputs": [
        {
          "output_type": "stream",
          "text": [
            "line :  ['Enter', 'uid1234', 'Muzi']\n",
            "userDict :  {'uid1234': 'Muzi'}\n",
            "line :  ['Enter', 'uid4567', 'Prodo']\n",
            "userDict :  {'uid1234': 'Muzi', 'uid4567': 'Prodo'}\n",
            "line :  ['Leave', 'uid1234']\n",
            "userDict :  {'uid1234': 'Muzi', 'uid4567': 'Prodo'}\n",
            "line :  ['Enter', 'uid1234', 'Prodo']\n",
            "userDict :  {'uid1234': 'Prodo', 'uid4567': 'Prodo'}\n",
            "line :  ['Change', 'uid4567', 'Ryan']\n",
            "userDict :  {'uid1234': 'Prodo', 'uid4567': 'Ryan'}\n",
            "targetString :  Prodo\n",
            "targetString :  Ryan\n",
            "targetString :  Prodo\n",
            "targetString :  Prodo\n",
            "targetString :  Ryan\n"
          ],
          "name": "stdout"
        },
        {
          "output_type": "execute_result",
          "data": {
            "text/plain": [
              "['Prodo님이 들어왔습니다.', 'Ryan님이 들어왔습니다.', 'Prodo님이 나갔습니다.', 'Prodo님이 들어왔습니다.']"
            ]
          },
          "metadata": {
            "tags": []
          },
          "execution_count": 15
        }
      ]
    },
    {
      "cell_type": "code",
      "metadata": {
        "colab": {
          "base_uri": "https://localhost:8080/"
        },
        "id": "QOuKCLbxdjXk",
        "outputId": "b9f0b480-69c0-4bea-fe77-6c88b2d97820"
      },
      "source": [
        "def solution(record):\n",
        "  recordString = {\n",
        "      \"Enter\" : \"님이 들어왔습니다.\",\n",
        "      \"Leave\" : \"님이 나갔습니다.\",\n",
        "  }\n",
        "  answer = []\n",
        "  preAnswer = []\n",
        "  userList = {}\n",
        "  for i in range(len(record)):\n",
        "    temp = record[i].split(' ')\n",
        "    case = temp[0]\n",
        "    uid = temp[1]\n",
        "    if case != \"Leave\":\n",
        "      userList[uid] = temp[2]\n",
        "    if case != \"Change\":\n",
        "      preAnswer.append([recordString[case], uid])\n",
        "  print(\"userList : \" , userList)\n",
        "  print(\"preAnswer : \" , preAnswer)\n",
        "\n",
        "  for i in range(len(preAnswer)):\n",
        "    print(\"preAnswer[i][1] : \" , preAnswer[i][1])\n",
        "    print(\"userList[preAnswer[i][1]] : \" , userList[preAnswer[i][1]])\n",
        "    print(\"preAnswer[i][0] : \" , preAnswer[i][0])\n",
        "    answer.append(userList[preAnswer[i][1]] + preAnswer[i][0])\n",
        "\n",
        "  return answer\n",
        "\n",
        "record = [\"Enter uid1234 Muzi\", \"Enter uid4567 Prodo\", \"Leave uid1234\", \"Enter uid1234 Prodo\", \"Change uid4567 Ryan\"]\n",
        "result = [\"Prodo님이 들어왔습니다.\", \"Ryan님이 들어왔습니다.\", \"Prodo님이 나갔습니다.\", \"Prodo님이 들어왔습니다.\"]\n",
        "solution(record)"
      ],
      "execution_count": 21,
      "outputs": [
        {
          "output_type": "stream",
          "text": [
            "userList :  {'uid1234': 'Prodo', 'uid4567': 'Ryan'}\n",
            "preAnswer :  [['님이 들어왔습니다.', 'uid1234'], ['님이 들어왔습니다.', 'uid4567'], ['님이 나갔습니다.', 'uid1234'], ['님이 들어왔습니다.', 'uid1234']]\n",
            "preAnswer[i][1] :  uid1234\n",
            "userList[preAnswer[i][1]] :  Prodo\n",
            "preAnswer[i][0] :  님이 들어왔습니다.\n",
            "preAnswer[i][1] :  uid4567\n",
            "userList[preAnswer[i][1]] :  Ryan\n",
            "preAnswer[i][0] :  님이 들어왔습니다.\n",
            "preAnswer[i][1] :  uid1234\n",
            "userList[preAnswer[i][1]] :  Prodo\n",
            "preAnswer[i][0] :  님이 나갔습니다.\n",
            "preAnswer[i][1] :  uid1234\n",
            "userList[preAnswer[i][1]] :  Prodo\n",
            "preAnswer[i][0] :  님이 들어왔습니다.\n"
          ],
          "name": "stdout"
        },
        {
          "output_type": "execute_result",
          "data": {
            "text/plain": [
              "['Prodo님이 들어왔습니다.', 'Ryan님이 들어왔습니다.', 'Prodo님이 나갔습니다.', 'Prodo님이 들어왔습니다.']"
            ]
          },
          "metadata": {
            "tags": []
          },
          "execution_count": 21
        }
      ]
    }
  ]
}
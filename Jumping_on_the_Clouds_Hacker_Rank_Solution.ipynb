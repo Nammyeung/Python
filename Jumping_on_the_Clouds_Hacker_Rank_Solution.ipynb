{
  "nbformat": 4,
  "nbformat_minor": 0,
  "metadata": {
    "colab": {
      "name": "Jumping on the Clouds_Hacker Rank Solution.ipynb의 사본",
      "provenance": [],
      "authorship_tag": "ABX9TyNL1SG0tkjKP6gRGkTvBkYD",
      "include_colab_link": true
    },
    "kernelspec": {
      "name": "python3",
      "display_name": "Python 3"
    }
  },
  "cells": [
    {
      "cell_type": "markdown",
      "metadata": {
        "id": "view-in-github",
        "colab_type": "text"
      },
      "source": [
        "<a href=\"https://colab.research.google.com/github/Nammyeung/Python/blob/master/Jumping_on_the_Clouds_Hacker_Rank_Solution.ipynb\" target=\"_parent\"><img src=\"https://colab.research.google.com/assets/colab-badge.svg\" alt=\"Open In Colab\"/></a>"
      ]
    },
    {
      "cell_type": "code",
      "metadata": {
        "id": "yLVPv23FcFhs",
        "colab_type": "code",
        "colab": {}
      },
      "source": [
        "n = int(raw_input())\n",
        "c = map(int, raw_input().split(\" \"))\n",
        "ans = 0\n",
        "i = 0\n",
        "while i < n - 1:\n",
        "    if i + 2 >= n or c[i + 2] == 1:   # Not possible to make a jump of size 2\n",
        "        i = i + 1\n",
        "        ans = ans + 1\n",
        "    else:\n",
        "        i = i + 2\n",
        "        ans = ans + 1\n",
        "print ans"
      ],
      "execution_count": null,
      "outputs": []
    }
  ]
}
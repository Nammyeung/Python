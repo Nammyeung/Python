{
  "nbformat": 4,
  "nbformat_minor": 0,
  "metadata": {
    "colab": {
      "name": "aTaleOfTwoStacks.ipynb",
      "provenance": [],
      "collapsed_sections": [],
      "authorship_tag": "ABX9TyOr8hmBsYirzE0KydOnNCal",
      "include_colab_link": true
    },
    "kernelspec": {
      "name": "python3",
      "display_name": "Python 3"
    }
  },
  "cells": [
    {
      "cell_type": "markdown",
      "metadata": {
        "id": "view-in-github",
        "colab_type": "text"
      },
      "source": [
        "<a href=\"https://colab.research.google.com/github/Nammyeung/Python/blob/master/aTaleOfTwoStacks.ipynb\" target=\"_parent\"><img src=\"https://colab.research.google.com/assets/colab-badge.svg\" alt=\"Open In Colab\"/></a>"
      ]
    },
    {
      "cell_type": "code",
      "metadata": {
        "id": "_L0MWV21cyi5",
        "colab_type": "code",
        "colab": {
          "base_uri": "https://localhost:8080/",
          "height": 720
        },
        "outputId": "b3c2d727-9d0b-41ba-ace9-4a8defb1710b"
      },
      "source": [
        "class MyQueue:\n",
        "  def __init__(self):\n",
        "    self.stack = []\n",
        "    self.stack2 = []\n",
        "    self.flag = 1 #to check after subsequent dequeue and peek operations, enqueue has been called again\n",
        "\n",
        "  def transfer1to2(self):\n",
        "        print(\"transfer1to2 함수 작동\")\n",
        "        while (self.stack):\n",
        "            self.stack2.append(self.popp(1))\n",
        "            print(self.stack2)\n",
        "            \n",
        "\n",
        "  def transfer2to1(self):\n",
        "        print(\"transfer2to1 함수 작동\")\n",
        "        while (self.stack2):\n",
        "            self.stack.append(self.popp())\n",
        "            print(self.stack)\n",
        "\n",
        "  def enqueue(self, a):\n",
        "        print(\"enqueue 작동\")\n",
        "        if (self.flag == 0):\n",
        "            self.transfer2to1()\n",
        "            self.flag = 1\n",
        "        self.stack.append(a)\n",
        "\n",
        "  def dequeue(self):\n",
        "        print(\"dequeue 작동\")\n",
        "        self.transfer1to2()\n",
        "        self.stack2.pop()\n",
        "        self.flag = 0\n",
        "\n",
        "  def peek(self):\n",
        "        print(\"peek 작동\")\n",
        "        self.transfer1to2()\n",
        "        self.flag = 0\n",
        "        return self.stack2[-1]\n",
        "\n",
        "\n",
        "  def popp(self, a=2):\n",
        "        print(\"popp함수 작동\")\n",
        "        if (a == 1):\n",
        "            if (self.stack):\n",
        "                return self.stack.pop()\n",
        "                \n",
        "        else:\n",
        "            if (self.stack2):\n",
        "                return self.stack2.pop()\n",
        "\n",
        "\n",
        "queue = MyQueue()\n",
        "print(\"반복 횟수를 입력하시오.\")\n",
        "for i in range(int(input())):\n",
        "        print(\"명령어(1~3)와 Queue에 넣을 숫자를 입력하시오(1의경우, 구분자 : 띄어쓰기)\")\n",
        "        value = list(map(int, input().split()))\n",
        "        if value[0] == 1:\n",
        "            queue.enqueue(value[1])\n",
        "\n",
        "        if value[0] == 2:\n",
        "            queue.dequeue()\n",
        "\n",
        "        if value[0] == 3:\n",
        "            print(queue.peek())"
      ],
      "execution_count": null,
      "outputs": [
        {
          "output_type": "stream",
          "text": [
            "반복 횟수를 입력하시오.\n",
            "10\n",
            "명령어(1~3)와 Queue에 넣을 숫자를 입력하시오(1의경우, 구분자 : 띄어쓰기)\n",
            "1 42\n",
            "enqueue 작동\n",
            "명령어(1~3)와 Queue에 넣을 숫자를 입력하시오(1의경우, 구분자 : 띄어쓰기)\n",
            "2\n",
            "dequeue 작동\n",
            "transfer1to2 함수 작동\n",
            "popp함수 작동\n",
            "[42]\n",
            "명령어(1~3)와 Queue에 넣을 숫자를 입력하시오(1의경우, 구분자 : 띄어쓰기)\n",
            "1 14\n",
            "enqueue 작동\n",
            "transfer2to1 함수 작동\n",
            "명령어(1~3)와 Queue에 넣을 숫자를 입력하시오(1의경우, 구분자 : 띄어쓰기)\n",
            "3\n",
            "peek 작동\n",
            "transfer1to2 함수 작동\n",
            "popp함수 작동\n",
            "[14]\n",
            "14\n",
            "명령어(1~3)와 Queue에 넣을 숫자를 입력하시오(1의경우, 구분자 : 띄어쓰기)\n",
            "1 28\n",
            "enqueue 작동\n",
            "transfer2to1 함수 작동\n",
            "popp함수 작동\n",
            "[14]\n",
            "명령어(1~3)와 Queue에 넣을 숫자를 입력하시오(1의경우, 구분자 : 띄어쓰기)\n",
            "3\n",
            "peek 작동\n",
            "transfer1to2 함수 작동\n",
            "popp함수 작동\n",
            "[28]\n",
            "popp함수 작동\n",
            "[28, 14]\n",
            "14\n",
            "명령어(1~3)와 Queue에 넣을 숫자를 입력하시오(1의경우, 구분자 : 띄어쓰기)\n"
          ],
          "name": "stdout"
        }
      ]
    },
    {
      "cell_type": "code",
      "metadata": {
        "id": "V2UlAIw4dEMZ",
        "colab_type": "code",
        "colab": {}
      },
      "source": [
        ""
      ],
      "execution_count": null,
      "outputs": []
    }
  ]
}
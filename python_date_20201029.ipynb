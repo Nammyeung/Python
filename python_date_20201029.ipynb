{
  "nbformat": 4,
  "nbformat_minor": 0,
  "metadata": {
    "colab": {
      "name": "python date_20201029.ipynb",
      "provenance": [],
      "collapsed_sections": [],
      "authorship_tag": "ABX9TyOl475Cj3XAMfcH3fGOoM1L",
      "include_colab_link": true
    },
    "kernelspec": {
      "name": "python3",
      "display_name": "Python 3"
    }
  },
  "cells": [
    {
      "cell_type": "markdown",
      "metadata": {
        "id": "view-in-github",
        "colab_type": "text"
      },
      "source": [
        "<a href=\"https://colab.research.google.com/github/Nammyeung/Python/blob/master/python_date_20201029.ipynb\" target=\"_parent\"><img src=\"https://colab.research.google.com/assets/colab-badge.svg\" alt=\"Open In Colab\"/></a>"
      ]
    },
    {
      "cell_type": "code",
      "metadata": {
        "id": "Xtd2TyTpBa0T",
        "outputId": "2731dd6d-a8e8-492b-9d41-c8cb38167889",
        "colab": {
          "base_uri": "https://localhost:8080/"
        }
      },
      "source": [
        "from datetime import datetime, timedelta\n",
        "import pandas as pd\n",
        "\n",
        "#datetime(년, 월, 일, 시, 분, 초, 밀리 초)\n",
        "\n",
        "time1 = datetime(2019,8,8,15,30,1)\n",
        "time2 = datetime.now()\n",
        "\n",
        "print(time1)\n",
        "print(time2)\n",
        "print(type(time1))\n",
        "print(type(time2))\n",
        "\n",
        "print(time2-time1)\n",
        "print(type(time2-time1))\n",
        "\n",
        "print((time2-time1).days,\"일\")\n",
        "print((time2-time1).seconds,\"초\")\n",
        "print((time2-time1).seconds / 3600,\"시간\")\n",
        "\n",
        "print('현 시간부터 5일 뒤')\n",
        "print(time2 + timedelta(days=5))\n",
        "print('현재 시간부터 3일 전')\n",
        "print(time2 + timedelta(days=-3))\n",
        "print('현재 시간부터 1일 뒤의 2시간 전')\n",
        "print(time2 + timedelta(days=1, hours=-2))"
      ],
      "execution_count": 52,
      "outputs": [
        {
          "output_type": "stream",
          "text": [
            "2019-08-08 15:30:01\n",
            "2020-10-29 01:50:11.490969\n",
            "<class 'datetime.datetime'>\n",
            "<class 'datetime.datetime'>\n",
            "447 days, 10:20:10.490969\n",
            "<class 'datetime.timedelta'>\n",
            "447 일\n",
            "37210 초\n",
            "10.33611111111111 시간\n",
            "현 시간부터 5일 뒤\n",
            "2020-11-03 01:50:11.490969\n",
            "현재 시간부터 3일 전\n",
            "2020-10-26 01:50:11.490969\n",
            "현재 시간부터 1일 뒤의 2시간 전\n",
            "2020-10-29 23:50:11.490969\n"
          ],
          "name": "stdout"
        }
      ]
    },
    {
      "cell_type": "code",
      "metadata": {
        "id": "JvXFoQS20i1-",
        "outputId": "a2097bec-3e43-4b2d-b248-5f77b298e7fc",
        "colab": {
          "base_uri": "https://localhost:8080/",
          "height": 1000
        }
      },
      "source": [
        "from datetime import date\n",
        "import pandas as pd\n",
        "\n",
        "# 기간을 만들고 싶을때\n",
        "print(len(pd.date_range('2020-03-01','2020-03-10')))\n",
        "\n",
        "# 시간간격으로 만들기(3h : 3시간)\n",
        "print(pd.date_range('2020-03-01',periods=10,freq='3H'))\n",
        "\n",
        "\n",
        "\n",
        "d0 = date(2008, 8, 18) # date 객체1\n",
        "d1 = date(2008, 9 , 26) #date 객체2\n",
        "delta = d1 - d0 #빼기\n",
        "print(delta.days) #날짜로 계산\n",
        "\n",
        "dt_index = pandas.date_range(start='20160901' , end='20161031')\n",
        "pandas.date_range(start='20160901' , end='20161031', freq='W-MON')\n",
        "\n",
        "#type(dt_index) => DatetimeIndex\n",
        "#DatetimeIndex => list(str)\n",
        "dt_list = dt_index.strftime(\"%Y%m%d\").tolist()\n",
        "\n",
        "for i in dt_list:\n",
        "    print(i)\n",
        "\n",
        "import datetime\n",
        "today = datetime.date.today()\n",
        "print(today)\n",
        "today = today + datetime.timedelta(+10)\n",
        "print(today)\n",
        "# 이렇게 출력됩니다. 알아서 계산이 되는거죠.. 저기 timedelta값은 날짜, 시간, 밀리초 등 여러 값을 넣을 수 있고, \n",
        "# 해당 값을 +/- 해가면서 날짜값을 조절 할 수 있었습니다.\n",
        "\n",
        "\n",
        "#날짜와 시간 : datetime.datetime\n",
        "#시간 간격 : dateitme.timedelta\n",
        "#시간 : time\n",
        "\n",
        "import datetime\n",
        "print(datetime.datetime.now())\n",
        "\n",
        "#년, 월, 일, 시, 분, 초, 마이크로초\n",
        "datetime.datetime(2018, 5, 9, 7, 26, 48, 319658) - datetime.datetime(2018, 4, 9, 7, 26, 48, 319658)\n",
        "\n",
        "#now.year, now.month, now.day\n",
        "\n",
        "period = datetime.timedelta(days=5, hours=5, minutes=5, seconds=10)\n",
        "print(period.days,period.seconds)\n",
        "\n",
        "(5, 18310)\n",
        "\n",
        "print(str(period))\n",
        "\n",
        "days_30 = datetime.timedelta(days=30)\n",
        "print(datetime.datetime.now()+days_30)\n",
        "\n",
        "print(datetime.datetime(2018, 6, 8, 7, 28, 29, 846963))\n",
        "\n",
        "s_day = datetime.datetime(2018,4,1,13,30,0)\n",
        "s_day.strftime('%Y/%m/%d %H:%M:%S')\n",
        "\n"
      ],
      "execution_count": 47,
      "outputs": [
        {
          "output_type": "stream",
          "text": [
            "10\n",
            "DatetimeIndex(['2020-03-01 00:00:00', '2020-03-01 03:00:00',\n",
            "               '2020-03-01 06:00:00', '2020-03-01 09:00:00',\n",
            "               '2020-03-01 12:00:00', '2020-03-01 15:00:00',\n",
            "               '2020-03-01 18:00:00', '2020-03-01 21:00:00',\n",
            "               '2020-03-02 00:00:00', '2020-03-02 03:00:00'],\n",
            "              dtype='datetime64[ns]', freq='3H')\n",
            "39\n",
            "20160901\n",
            "20160902\n",
            "20160903\n",
            "20160904\n",
            "20160905\n",
            "20160906\n",
            "20160907\n",
            "20160908\n",
            "20160909\n",
            "20160910\n",
            "20160911\n",
            "20160912\n",
            "20160913\n",
            "20160914\n",
            "20160915\n",
            "20160916\n",
            "20160917\n",
            "20160918\n",
            "20160919\n",
            "20160920\n",
            "20160921\n",
            "20160922\n",
            "20160923\n",
            "20160924\n",
            "20160925\n",
            "20160926\n",
            "20160927\n",
            "20160928\n",
            "20160929\n",
            "20160930\n",
            "20161001\n",
            "20161002\n",
            "20161003\n",
            "20161004\n",
            "20161005\n",
            "20161006\n",
            "20161007\n",
            "20161008\n",
            "20161009\n",
            "20161010\n",
            "20161011\n",
            "20161012\n",
            "20161013\n",
            "20161014\n",
            "20161015\n",
            "20161016\n",
            "20161017\n",
            "20161018\n",
            "20161019\n",
            "20161020\n",
            "20161021\n",
            "20161022\n",
            "20161023\n",
            "20161024\n",
            "20161025\n",
            "20161026\n",
            "20161027\n",
            "20161028\n",
            "20161029\n",
            "20161030\n",
            "20161031\n",
            "2020-10-29\n",
            "2020-11-08\n",
            "2020-10-29 01:44:59.576017\n",
            "5 18310\n",
            "5 days, 5:05:10\n",
            "2020-11-28 01:44:59.576357\n",
            "2018-06-08 07:28:29.846963\n"
          ],
          "name": "stdout"
        },
        {
          "output_type": "execute_result",
          "data": {
            "application/vnd.google.colaboratory.intrinsic+json": {
              "type": "string"
            },
            "text/plain": [
              "'2018/04/01 13:30:00'"
            ]
          },
          "metadata": {
            "tags": []
          },
          "execution_count": 47
        }
      ]
    },
    {
      "cell_type": "code",
      "metadata": {
        "id": "5KSn-11W-gjT",
        "outputId": "a1d3ab93-2893-47d1-f131-aec162f319d3",
        "colab": {
          "base_uri": "https://localhost:8080/",
          "height": 394
        }
      },
      "source": [
        "def is_valid_date(year, month, day): \n",
        "    try: \n",
        "     days = calendar.monthrange(year, month) \n",
        "     days1 = days[1] \n",
        "     if datetime.MINYEAR <= year <= datetime.MAXYEAR: \n",
        "      if 1<= month <= 12: \n",
        "       if 1<= day <= days1: \n",
        "        return True \n",
        "       else:  \n",
        "        return False \n",
        "     else: return False \n",
        "    except ValueError: \n",
        "     return False \n",
        "\n",
        "def days_between(year1, month1, day1, year2, month2, day2): \n",
        "    try: \n",
        "     date1= datetime.date(year1, month1, day1) \n",
        "     date2= datetime.date(year2, month2, day2) \n",
        "     dif = date2 - date1 \n",
        "     diff = dif.days \n",
        "     if diff < 0: \n",
        "      return 0 \n",
        "    except ValueError: \n",
        "     return 0 \n",
        "    else: \n",
        "     return diff "
      ],
      "execution_count": 35,
      "outputs": [
        {
          "output_type": "error",
          "ename": "NameError",
          "evalue": "ignored",
          "traceback": [
            "\u001b[0;31m---------------------------------------------------------------------------\u001b[0m",
            "\u001b[0;31mNameError\u001b[0m                                 Traceback (most recent call last)",
            "\u001b[0;32m<ipython-input-35-94941edd71cb>\u001b[0m in \u001b[0;36m<module>\u001b[0;34m()\u001b[0m\n\u001b[1;32m     19\u001b[0m       \u001b[0;32mreturn\u001b[0m \u001b[0;36m0\u001b[0m\u001b[0;34m\u001b[0m\u001b[0;34m\u001b[0m\u001b[0m\n\u001b[1;32m     20\u001b[0m \u001b[0;34m\u001b[0m\u001b[0m\n\u001b[0;32m---> 21\u001b[0;31m \u001b[0mprint\u001b[0m\u001b[0;34m(\u001b[0m\u001b[0mdays_between\u001b[0m\u001b[0;34m(\u001b[0m\u001b[0;36m2026\u001b[0m\u001b[0;34m,\u001b[0m \u001b[0;36m1\u001b[0m\u001b[0;34m,\u001b[0m \u001b[0;36m3\u001b[0m\u001b[0;34m,\u001b[0m \u001b[0;36m2025\u001b[0m\u001b[0;34m,\u001b[0m \u001b[0;36m6\u001b[0m\u001b[0;34m,\u001b[0m \u001b[0;36m3\u001b[0m\u001b[0;34m)\u001b[0m\u001b[0;34m)\u001b[0m\u001b[0;34m\u001b[0m\u001b[0;34m\u001b[0m\u001b[0m\n\u001b[0m\u001b[1;32m     22\u001b[0m \u001b[0mdate1\u001b[0m \u001b[0;34m=\u001b[0m \u001b[0mdate\u001b[0m\u001b[0;34m(\u001b[0m\u001b[0myear1\u001b[0m\u001b[0;34m,\u001b[0m \u001b[0mmonth1\u001b[0m\u001b[0;34m,\u001b[0m \u001b[0mday1\u001b[0m\u001b[0;34m)\u001b[0m\u001b[0;34m\u001b[0m\u001b[0;34m\u001b[0m\u001b[0m\n\u001b[1;32m     23\u001b[0m \u001b[0mprint\u001b[0m\u001b[0;34m(\u001b[0m\u001b[0mdays_between\u001b[0m\u001b[0;34m(\u001b[0m\u001b[0;36m2026\u001b[0m\u001b[0;34m,\u001b[0m \u001b[0;36m1\u001b[0m\u001b[0;34m,\u001b[0m \u001b[0;36m34\u001b[0m\u001b[0;34m,\u001b[0m \u001b[0;36m2025\u001b[0m\u001b[0;34m,\u001b[0m \u001b[0;36m6\u001b[0m\u001b[0;34m,\u001b[0m \u001b[0;36m3\u001b[0m\u001b[0;34m)\u001b[0m\u001b[0;34m)\u001b[0m\u001b[0;34m\u001b[0m\u001b[0;34m\u001b[0m\u001b[0m\n",
            "\u001b[0;32m<ipython-input-35-94941edd71cb>\u001b[0m in \u001b[0;36mdays_between\u001b[0;34m(year1, month1, day1, year2, month2, day2)\u001b[0m\n\u001b[1;32m     12\u001b[0m     \u001b[0mdate2\u001b[0m \u001b[0;34m=\u001b[0m \u001b[0mdate\u001b[0m\u001b[0;34m(\u001b[0m\u001b[0myear2\u001b[0m\u001b[0;34m,\u001b[0m \u001b[0mmonth2\u001b[0m\u001b[0;34m,\u001b[0m \u001b[0mday2\u001b[0m\u001b[0;34m)\u001b[0m\u001b[0;34m\u001b[0m\u001b[0;34m\u001b[0m\u001b[0m\n\u001b[1;32m     13\u001b[0m     \u001b[0mdiff\u001b[0m \u001b[0;34m=\u001b[0m \u001b[0mdate2\u001b[0m \u001b[0;34m-\u001b[0m \u001b[0mdate1\u001b[0m\u001b[0;34m\u001b[0m\u001b[0;34m\u001b[0m\u001b[0m\n\u001b[0;32m---> 14\u001b[0;31m     \u001b[0;32mif\u001b[0m \u001b[0mis_valid_date\u001b[0m\u001b[0;34m(\u001b[0m\u001b[0myear1\u001b[0m\u001b[0;34m,\u001b[0m \u001b[0mmonth1\u001b[0m\u001b[0;34m,\u001b[0m \u001b[0mday1\u001b[0m\u001b[0;34m)\u001b[0m \u001b[0;32mand\u001b[0m \u001b[0mis_valid_date\u001b[0m\u001b[0;34m(\u001b[0m\u001b[0myear2\u001b[0m\u001b[0;34m,\u001b[0m \u001b[0mmonth2\u001b[0m\u001b[0;34m,\u001b[0m \u001b[0mday2\u001b[0m\u001b[0;34m)\u001b[0m\u001b[0;34m:\u001b[0m\u001b[0;34m\u001b[0m\u001b[0;34m\u001b[0m\u001b[0m\n\u001b[0m\u001b[1;32m     15\u001b[0m       \u001b[0;32mreturn\u001b[0m \u001b[0mdiff\u001b[0m\u001b[0;34m\u001b[0m\u001b[0;34m\u001b[0m\u001b[0m\n\u001b[1;32m     16\u001b[0m     \u001b[0;32melif\u001b[0m \u001b[0mdate2\u001b[0m \u001b[0;34m<\u001b[0m \u001b[0mdate1\u001b[0m\u001b[0;34m:\u001b[0m\u001b[0;34m\u001b[0m\u001b[0;34m\u001b[0m\u001b[0m\n",
            "\u001b[0;32m<ipython-input-35-94941edd71cb>\u001b[0m in \u001b[0;36mis_valid_date\u001b[0;34m(year, month, day)\u001b[0m\n\u001b[1;32m      1\u001b[0m \u001b[0;32mdef\u001b[0m \u001b[0mis_valid_date\u001b[0m\u001b[0;34m(\u001b[0m\u001b[0myear\u001b[0m\u001b[0;34m,\u001b[0m \u001b[0mmonth\u001b[0m\u001b[0;34m,\u001b[0m \u001b[0mday\u001b[0m\u001b[0;34m)\u001b[0m\u001b[0;34m:\u001b[0m\u001b[0;34m\u001b[0m\u001b[0;34m\u001b[0m\u001b[0m\n\u001b[0;32m----> 2\u001b[0;31m   \u001b[0mndays\u001b[0m \u001b[0;34m=\u001b[0m \u001b[0mmdays\u001b[0m\u001b[0;34m[\u001b[0m\u001b[0mmonth\u001b[0m\u001b[0;34m]\u001b[0m \u001b[0;34m+\u001b[0m \u001b[0;34m(\u001b[0m\u001b[0mmonth\u001b[0m \u001b[0;34m==\u001b[0m \u001b[0mFebruary\u001b[0m \u001b[0;32mand\u001b[0m \u001b[0misleap\u001b[0m\u001b[0;34m(\u001b[0m\u001b[0myear\u001b[0m\u001b[0;34m)\u001b[0m\u001b[0;34m)\u001b[0m\u001b[0;34m\u001b[0m\u001b[0;34m\u001b[0m\u001b[0m\n\u001b[0m\u001b[1;32m      3\u001b[0m   \u001b[0;32mif\u001b[0m \u001b[0mdatetime\u001b[0m\u001b[0;34m.\u001b[0m\u001b[0mMINYEAR\u001b[0m \u001b[0;34m<=\u001b[0m \u001b[0myear\u001b[0m \u001b[0;34m<=\u001b[0m \u001b[0mdatetime\u001b[0m\u001b[0;34m.\u001b[0m\u001b[0mMAXYEAR\u001b[0m\u001b[0;34m:\u001b[0m\u001b[0;34m\u001b[0m\u001b[0;34m\u001b[0m\u001b[0m\n\u001b[1;32m      4\u001b[0m     \u001b[0;32mif\u001b[0m \u001b[0;36m1\u001b[0m \u001b[0;34m<=\u001b[0m \u001b[0mmonth\u001b[0m \u001b[0;34m<=\u001b[0m\u001b[0;36m12\u001b[0m\u001b[0;34m:\u001b[0m\u001b[0;34m\u001b[0m\u001b[0;34m\u001b[0m\u001b[0m\n\u001b[1;32m      5\u001b[0m      \u001b[0;32mif\u001b[0m \u001b[0;36m1\u001b[0m \u001b[0;34m<=\u001b[0m \u001b[0mday\u001b[0m \u001b[0;34m<=\u001b[0m \u001b[0;36m31\u001b[0m \u001b[0;32mand\u001b[0m \u001b[0;36m1\u001b[0m \u001b[0;34m<=\u001b[0m \u001b[0mday\u001b[0m \u001b[0;34m<=\u001b[0m \u001b[0mndays\u001b[0m\u001b[0;34m:\u001b[0m\u001b[0;34m\u001b[0m\u001b[0;34m\u001b[0m\u001b[0m\n",
            "\u001b[0;31mNameError\u001b[0m: name 'mdays' is not defined"
          ]
        }
      ]
    },
    {
      "cell_type": "code",
      "metadata": {
        "id": "0oLh5UqyA8l3"
      },
      "source": [
        "#https://m.blog.naver.com/PostView.nhn?blogId=wideeyed&logNo=221383595611&proxyReferer=https:%2F%2Fwww.google.com%2F"
      ],
      "execution_count": null,
      "outputs": []
    }
  ]
}
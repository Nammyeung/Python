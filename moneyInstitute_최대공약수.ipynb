{
  "nbformat": 4,
  "nbformat_minor": 0,
  "metadata": {
    "colab": {
      "name": "moneyInstitute_최대공약수.ipynb",
      "provenance": [],
      "authorship_tag": "ABX9TyNVdKdPGtCCaQLRT3xLoEqO",
      "include_colab_link": true
    },
    "kernelspec": {
      "name": "python3",
      "display_name": "Python 3"
    }
  },
  "cells": [
    {
      "cell_type": "markdown",
      "metadata": {
        "id": "view-in-github",
        "colab_type": "text"
      },
      "source": [
        "<a href=\"https://colab.research.google.com/github/Nammyeung/Python/blob/master/moneyInstitute_%EC%B5%9C%EB%8C%80%EA%B3%B5%EC%95%BD%EC%88%98.ipynb\" target=\"_parent\"><img src=\"https://colab.research.google.com/assets/colab-badge.svg\" alt=\"Open In Colab\"/></a>"
      ]
    },
    {
      "cell_type": "code",
      "metadata": {
        "id": "AM5Xk7qh0ljs"
      },
      "source": [
        "from collections import *\n",
        "import math\n",
        "\n",
        "def solution(nums):\n",
        "\tnums.sort\n",
        "\tanswer = 0\n",
        "\n",
        "\tfor num in nums:\n",
        "\t\tif(num % abs(num-answer) == 0):\n",
        "\t\t\tanswer = abs(num-answer)\n",
        "\t\t\tcontinue\n",
        "\t\telse:\n",
        "\t\t\tif(answer != 1):\n",
        "\t\t\t\treturn answer\n",
        "\t\t\telse:\n",
        "\t\t\t\treturn answer\n",
        "\treturn answer"
      ],
      "execution_count": null,
      "outputs": []
    }
  ]
}
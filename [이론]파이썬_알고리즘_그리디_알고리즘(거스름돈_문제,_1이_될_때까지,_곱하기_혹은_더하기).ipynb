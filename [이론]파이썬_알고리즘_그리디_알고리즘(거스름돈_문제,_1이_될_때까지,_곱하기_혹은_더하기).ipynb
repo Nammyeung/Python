{
  "nbformat": 4,
  "nbformat_minor": 0,
  "metadata": {
    "colab": {
      "name": "[이론]파이썬 알고리즘 - 그리디 알고리즘(거스름돈 문제, 1이 될 때까지, 곱하기 혹은 더하기).ipynb",
      "provenance": [],
      "collapsed_sections": [],
      "authorship_tag": "ABX9TyM4D4oqnLyabedMYEV6Y6CI",
      "include_colab_link": true
    },
    "kernelspec": {
      "name": "python3",
      "display_name": "Python 3"
    }
  },
  "cells": [
    {
      "cell_type": "markdown",
      "metadata": {
        "id": "view-in-github",
        "colab_type": "text"
      },
      "source": [
        "<a href=\"https://colab.research.google.com/github/Nammyeung/Python/blob/master/%5B%EC%9D%B4%EB%A1%A0%5D%ED%8C%8C%EC%9D%B4%EC%8D%AC_%EC%95%8C%EA%B3%A0%EB%A6%AC%EC%A6%98_%EA%B7%B8%EB%A6%AC%EB%94%94_%EC%95%8C%EA%B3%A0%EB%A6%AC%EC%A6%98(%EA%B1%B0%EC%8A%A4%EB%A6%84%EB%8F%88_%EB%AC%B8%EC%A0%9C%2C_1%EC%9D%B4_%EB%90%A0_%EB%95%8C%EA%B9%8C%EC%A7%80%2C_%EA%B3%B1%ED%95%98%EA%B8%B0_%ED%98%B9%EC%9D%80_%EB%8D%94%ED%95%98%EA%B8%B0).ipynb\" target=\"_parent\"><img src=\"https://colab.research.google.com/assets/colab-badge.svg\" alt=\"Open In Colab\"/></a>"
      ]
    },
    {
      "cell_type": "code",
      "metadata": {
        "colab": {
          "base_uri": "https://localhost:8080/"
        },
        "id": "Hme3EK_3c3yN",
        "outputId": "34ef72d0-b5df-41ec-c45e-75b6776d1880"
      },
      "source": [
        "n = 1260 # 받은 돈\n",
        "cnt = 0\n",
        "lst = [500, 100, 50, 10] # 거스름돈 종류\n",
        "\n",
        "for i in lst:\n",
        "  print(\"i\", i)\n",
        "  print(\"n//i :\", n//i)\n",
        "  cnt += n//i\n",
        "  print(\"cnt\", cnt)\n",
        "  n %= i\n",
        "  print(\" n : \", n)\n",
        "\n",
        "print(cnt)"
      ],
      "execution_count": 3,
      "outputs": [
        {
          "output_type": "stream",
          "text": [
            "i 500\n",
            "n//i : 2\n",
            "cnt 2\n",
            " n :  260\n",
            "i 100\n",
            "n//i : 2\n",
            "cnt 4\n",
            " n :  60\n",
            "i 50\n",
            "n//i : 1\n",
            "cnt 5\n",
            " n :  10\n",
            "i 10\n",
            "n//i : 1\n",
            "cnt 6\n",
            " n :  0\n",
            "6\n"
          ],
          "name": "stdout"
        }
      ]
    },
    {
      "cell_type": "code",
      "metadata": {
        "colab": {
          "base_uri": "https://localhost:8080/"
        },
        "id": "As2hOLbfdl7-",
        "outputId": "132bb6c7-e356-43bb-8da6-283e16eb8240"
      },
      "source": [
        "print(\"n과 k를 입력하시오\")\n",
        "n, k = map(int, input().split())\n",
        "\n",
        "result = 0\n",
        "\n",
        "while True:\n",
        "  # N이 K로 나누어 떨어지는 수가 될 때까지만 1씩 빼기\n",
        "  target = (n//k)*k # K로 나누어지는 가장 큰 수(=target) 찾아서\n",
        "  print(\"n//k : \", n//k)\n",
        "  print(\"n : \" , n)\n",
        "  print(\"k : \" , k)\n",
        "  print(\"target(n//k)*k : \", (n//k)*k)\n",
        "  result += (n-target) # 그 수를 N에서 빼면 1씩 빼는 횟수\n",
        "  print(\"result : \" , result)\n",
        "  n = target\n",
        "  print(\"n : \", target)\n",
        "\n",
        "  # N이 K보다 작으면 (더 이상 나눌 수 없음) 반복문 탈출\n",
        "  if n<k:\n",
        "    print(\"n : \", n , \" k : \", k)\n",
        "    break\n",
        "\n",
        "  # K로 나누므로 횟수 +1\n",
        "  result+=1\n",
        "  print(\"result : \" , result)\n",
        "  n//=k\n",
        "  print(\"n : \", n)\n",
        "\n",
        "  # 마지막으로 남은 수에서 1빼기\n",
        "result+=(n-1)\n",
        "print(\"result : \" , result)"
      ],
      "execution_count": 9,
      "outputs": [
        {
          "output_type": "stream",
          "text": [
            "n과 k를 입력하시오\n",
            "1000 7\n",
            "n//k :  142\n",
            "n :  1000\n",
            "k :  7\n",
            "target(n//k)*k :  994\n",
            "result :  6\n",
            "n :  994\n",
            "result :  7\n",
            "n :  142\n",
            "n//k :  20\n",
            "n :  142\n",
            "k :  7\n",
            "target(n//k)*k :  140\n",
            "result :  9\n",
            "n :  140\n",
            "result :  10\n",
            "n :  20\n",
            "n//k :  2\n",
            "n :  20\n",
            "k :  7\n",
            "target(n//k)*k :  14\n",
            "result :  16\n",
            "n :  14\n",
            "result :  17\n",
            "n :  2\n",
            "n//k :  0\n",
            "n :  2\n",
            "k :  7\n",
            "target(n//k)*k :  0\n",
            "result :  19\n",
            "n :  0\n",
            "n :  0  k :  7\n",
            "result :  18\n"
          ],
          "name": "stdout"
        }
      ]
    },
    {
      "cell_type": "code",
      "metadata": {
        "colab": {
          "base_uri": "https://localhost:8080/"
        },
        "id": "ukYhmRm_hfE9",
        "outputId": "3ffe23b9-2151-4458-d520-84e750db6bae"
      },
      "source": [
        "data = input()\n",
        "# 첫 번째 문자를 숫자로 변경하여 대입\n",
        "result = int(data[0])\n",
        "\n",
        "for i in range(1, len(data)):\n",
        "  # 두 수 중에서 하나라도 0 또는 1인 경우 더하기 수행\n",
        "  num = int(data[i])\n",
        "  if num<= 1 or result<=1:\n",
        "    result+=num\n",
        "  else:\n",
        "    result*=num\n",
        "\n",
        "print(result)"
      ],
      "execution_count": 11,
      "outputs": [
        {
          "output_type": "stream",
          "text": [
            "1000\n",
            "1\n"
          ],
          "name": "stdout"
        }
      ]
    }
  ]
}
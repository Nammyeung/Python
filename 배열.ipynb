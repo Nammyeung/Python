{
  "nbformat": 4,
  "nbformat_minor": 0,
  "metadata": {
    "colab": {
      "name": "배열.ipynb",
      "provenance": [],
      "authorship_tag": "ABX9TyPbSPdKxKZBrq6GEv9YalHJ",
      "include_colab_link": true
    },
    "kernelspec": {
      "name": "python3",
      "display_name": "Python 3"
    }
  },
  "cells": [
    {
      "cell_type": "markdown",
      "metadata": {
        "id": "view-in-github",
        "colab_type": "text"
      },
      "source": [
        "<a href=\"https://colab.research.google.com/github/Nammyeung/Python/blob/master/%EB%B0%B0%EC%97%B4.ipynb\" target=\"_parent\"><img src=\"https://colab.research.google.com/assets/colab-badge.svg\" alt=\"Open In Colab\"/></a>"
      ]
    },
    {
      "cell_type": "code",
      "metadata": {
        "colab": {
          "base_uri": "https://localhost:8080/"
        },
        "id": "u7aigpC-Zx2B",
        "outputId": "f0397847-37b4-4224-d085-b0aff2670b1d"
      },
      "source": [
        "a = [1, 2, 3, 4, 5, 6 ,7, 8, 9, 10]\n",
        "print(a[::-2])\n",
        "print(a[len(a)-2::-2])"
      ],
      "execution_count": 13,
      "outputs": [
        {
          "output_type": "stream",
          "text": [
            "[10, 8, 6, 4, 2]\n",
            "[9, 7, 5, 3, 1]\n"
          ],
          "name": "stdout"
        }
      ]
    }
  ]
}
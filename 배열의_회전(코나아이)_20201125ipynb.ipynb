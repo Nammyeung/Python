{
  "nbformat": 4,
  "nbformat_minor": 0,
  "metadata": {
    "colab": {
      "name": "배열의 회전(코나아이)_20201125ipynb",
      "provenance": [],
      "authorship_tag": "ABX9TyN92iEmLyTABoPdsLSfO2jA",
      "include_colab_link": true
    },
    "kernelspec": {
      "name": "python3",
      "display_name": "Python 3"
    }
  },
  "cells": [
    {
      "cell_type": "markdown",
      "metadata": {
        "id": "view-in-github",
        "colab_type": "text"
      },
      "source": [
        "<a href=\"https://colab.research.google.com/github/Nammyeung/Python/blob/master/%EB%B0%B0%EC%97%B4%EC%9D%98_%ED%9A%8C%EC%A0%84(%EC%BD%94%EB%82%98%EC%95%84%EC%9D%B4)_20201125ipynb.ipynb\" target=\"_parent\"><img src=\"https://colab.research.google.com/assets/colab-badge.svg\" alt=\"Open In Colab\"/></a>"
      ]
    },
    {
      "cell_type": "code",
      "metadata": {
        "colab": {
          "base_uri": "https://localhost:8080/"
        },
        "id": "1eEsjOUz3h16",
        "outputId": "b42ea8d8-1b06-46b4-bcd1-94f4c04f1d00"
      },
      "source": [
        "def rotate(arr, count, arrB):\n",
        "  m = [arr[len(arr)-1]]\n",
        "  print(\"m1 : \" , m)\n",
        "  arr.pop(-1)\n",
        "  m.extend(arr)\n",
        "\n",
        "  if(count != 0):\n",
        "    print(\"count1 : \", count)\n",
        "    print(\"m2 : \", m)\n",
        "    if(m == arrB):\n",
        "      print(\"동일한 배열 발견!)\")\n",
        "      return True\n",
        "    else:\n",
        "      count = count - 1\n",
        "      rotate(m, count, arrB)\n",
        "  elif(count == 0):\n",
        "    print(\"count2 : \", count)\n",
        "    print(\"m2 : \", m)\n",
        "    return False\n",
        "  return False\n",
        "\n",
        "def solution(arrA, arrB):\n",
        "  answer = True\n",
        "  answer = rotate(arrA, len(arrA), arrB)\n",
        "\n",
        "  return answer\n",
        "\n",
        "print(str(solution([7,8,10], [10,7,8])))\n",
        "print(str(solution([4,3,2, 1], [5,4,1,2])))\n",
        "print(str(solution([1,3, 5, 7, 9], [7,9,1,3,5])))\n"
      ],
      "execution_count": 6,
      "outputs": [
        {
          "output_type": "stream",
          "text": [
            "m1 :  [10]\n",
            "count1 :  3\n",
            "m2 :  [10, 7, 8]\n",
            "동일한 배열 발견!)\n",
            "True\n",
            "m1 :  [1]\n",
            "count1 :  4\n",
            "m2 :  [1, 4, 3, 2]\n",
            "m1 :  [2]\n",
            "count1 :  3\n",
            "m2 :  [2, 1, 4, 3]\n",
            "m1 :  [3]\n",
            "count1 :  2\n",
            "m2 :  [3, 2, 1, 4]\n",
            "m1 :  [4]\n",
            "count1 :  1\n",
            "m2 :  [4, 3, 2, 1]\n",
            "m1 :  [1]\n",
            "count2 :  0\n",
            "m2 :  [1, 4, 3, 2]\n",
            "False\n",
            "m1 :  [9]\n",
            "count1 :  5\n",
            "m2 :  [9, 1, 3, 5, 7]\n",
            "m1 :  [7]\n",
            "count1 :  4\n",
            "m2 :  [7, 9, 1, 3, 5]\n",
            "동일한 배열 발견!)\n",
            "False\n"
          ],
          "name": "stdout"
        }
      ]
    },
    {
      "cell_type": "code",
      "metadata": {
        "id": "pyjxu7gU3xi9"
      },
      "source": [
        ""
      ],
      "execution_count": null,
      "outputs": []
    }
  ]
}
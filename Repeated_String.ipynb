{
  "nbformat": 4,
  "nbformat_minor": 0,
  "metadata": {
    "colab": {
      "name": "Repeated String.ipynb",
      "provenance": [],
      "collapsed_sections": [],
      "authorship_tag": "ABX9TyMgp6JqEITPtjJJcFn4GY68",
      "include_colab_link": true
    },
    "kernelspec": {
      "name": "python3",
      "display_name": "Python 3"
    }
  },
  "cells": [
    {
      "cell_type": "markdown",
      "metadata": {
        "id": "view-in-github",
        "colab_type": "text"
      },
      "source": [
        "<a href=\"https://colab.research.google.com/github/Nammyeung/Python/blob/master/Repeated_String.ipynb\" target=\"_parent\"><img src=\"https://colab.research.google.com/assets/colab-badge.svg\" alt=\"Open In Colab\"/></a>"
      ]
    },
    {
      "cell_type": "code",
      "metadata": {
        "id": "BNGOxAQKH6gv",
        "colab_type": "code",
        "colab": {
          "base_uri": "https://localhost:8080/",
          "height": 359
        },
        "outputId": "3b47a121-04eb-430e-dd9f-a4cb01fdd973"
      },
      "source": [
        "from collections import Counter\n",
        "import math\n",
        "import os\n",
        "import random\n",
        "import re\n",
        "import sys\n",
        "\n",
        "# Complete the repeatedString function below.\n",
        "def getFrequencyA(my_string):\n",
        "  print(\"getFrequencyA 함수 작동\")\n",
        "  count = dict(Counter(my_string))\n",
        "  #컨테이너에 동일한 값의 자료가 몇개인지를 파악하는데 사용하는 객체이다.\n",
        "  #https://excelsior-cjh.tistory.com/94\n",
        "  print(\"count\")\n",
        "  print(count)\n",
        "  print(\"Counter(my_string) :\")\n",
        "  print(dict(Counter(my_string)))\n",
        "\n",
        "  keys = count.keys()\n",
        "  print(\"keys\")\n",
        "  print(keys)\n",
        "\n",
        "  if 'a' in keys:\n",
        "    answer = count['a']\n",
        "  else:\n",
        "    answer = 0\n",
        "  return answer\n",
        "\n",
        "def repeatedString(s, n):\n",
        "  if len(s) == 1 and s != 'a':\n",
        "    answer = 0\n",
        "  elif len(s) == 1 and s == 'a':\n",
        "    answer = n\n",
        "  elif len(s) > n:\n",
        "    new_string = list(s[:n])#반복문자 생성하는 문구\n",
        "\n",
        "    answer = getFrequencyA(new_string)\n",
        "  else:\n",
        "    answer = 0\n",
        "    loop_num = n // len(s)\n",
        "    mod_num = n % len(s)\n",
        "\n",
        "    s_a_count = getFrequencyA(s)\n",
        "    s_mod_count = getFrequencyA(s[:mod_num])\n",
        "\n",
        "    print(\"answer = %d + (%d * %d) + %d\" % (answer, s_a_count, loop_num,s_mod_count))\n",
        "    answer = answer + (s_a_count * loop_num) + s_mod_count\n",
        "    #s_a_count : 주어진 문자에서의 a의 갯수 // loop_num : 요구길이의 문자를 형성하기 위해 반복된 횟수 // s_mod_count : 요구길이의 문자를 형성하기 위해 반복하고 남은 문자길이 안에서의 a의 갯수\n",
        "  return answer\n",
        "\n",
        "\n",
        "print(\"반복할 문자를 입력하시오\")\n",
        "s = input()\n",
        "print(\"생성할 문자의 총 길이를 입력하시오\")\n",
        "n = int(input())\n",
        "#정수형 자료를 선언할 때는 int를 씌운다.\n",
        "\n",
        "result = repeatedString(s, n)"
      ],
      "execution_count": 6,
      "outputs": [
        {
          "output_type": "stream",
          "text": [
            "반복할 문자를 입력하시오\n",
            "aba\n",
            "생성할 문자의 총 길이를 입력하시오\n",
            "10\n",
            "getFrequencyA 함수 작동\n",
            "count\n",
            "{'a': 2, 'b': 1}\n",
            "Counter(my_string) :\n",
            "{'a': 2, 'b': 1}\n",
            "keys\n",
            "dict_keys(['a', 'b'])\n",
            "getFrequencyA 함수 작동\n",
            "count\n",
            "{'a': 1}\n",
            "Counter(my_string) :\n",
            "{'a': 1}\n",
            "keys\n",
            "dict_keys(['a'])\n",
            "answer = 0 + (2 * 3) + 1\n"
          ],
          "name": "stdout"
        }
      ]
    }
  ]
}
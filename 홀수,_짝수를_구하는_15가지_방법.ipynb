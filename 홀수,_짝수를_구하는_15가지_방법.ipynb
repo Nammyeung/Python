{
  "nbformat": 4,
  "nbformat_minor": 0,
  "metadata": {
    "colab": {
      "name": "홀수, 짝수를 구하는 15가지 방법.ipynb",
      "provenance": [],
      "collapsed_sections": [],
      "authorship_tag": "ABX9TyNPRASJZaW/GUX17ERBk8eV",
      "include_colab_link": true
    },
    "kernelspec": {
      "name": "python3",
      "display_name": "Python 3"
    }
  },
  "cells": [
    {
      "cell_type": "markdown",
      "metadata": {
        "id": "view-in-github",
        "colab_type": "text"
      },
      "source": [
        "<a href=\"https://colab.research.google.com/github/Nammyeung/Python/blob/master/%ED%99%80%EC%88%98%2C_%EC%A7%9D%EC%88%98%EB%A5%BC_%EA%B5%AC%ED%95%98%EB%8A%94_15%EA%B0%80%EC%A7%80_%EB%B0%A9%EB%B2%95.ipynb\" target=\"_parent\"><img src=\"https://colab.research.google.com/assets/colab-badge.svg\" alt=\"Open In Colab\"/></a>"
      ]
    },
    {
      "cell_type": "code",
      "metadata": {
        "colab": {
          "base_uri": "https://localhost:8080/",
          "height": 136
        },
        "id": "XDxhwQEeIMjf",
        "outputId": "2863bec0-dec0-4fe3-b375-b0472d6a79bb"
      },
      "source": [
        "# 1. 기본 개념\n",
        "\n",
        "def solution(num):\n",
        "  if num % 2 == 1:\n",
        "    return '홀'\n",
        "  elif num % 2 == 0:\n",
        "    return '짝'\n",
        "\n",
        "solution(10)\n"
      ],
      "execution_count": 1,
      "outputs": [
        {
          "output_type": "error",
          "ename": "SyntaxError",
          "evalue": "ignored",
          "traceback": [
            "\u001b[0;36m  File \u001b[0;32m\"<ipython-input-1-d90284521d48>\"\u001b[0;36m, line \u001b[0;32m13\u001b[0m\n\u001b[0;31m    def solution(num):\u001b[0m\n\u001b[0m                      ^\u001b[0m\n\u001b[0;31mSyntaxError\u001b[0m\u001b[0;31m:\u001b[0m unexpected EOF while parsing\n"
          ]
        }
      ]
    },
    {
      "cell_type": "code",
      "metadata": {
        "id": "EgM-FaOGIgez"
      },
      "source": [
        "# 2. 1. 요약\n",
        "\n",
        "def solution(num):\n",
        "  if num % 2 == 1:\n",
        "    return '홀'\n",
        "  else:\n",
        "    return '짝'\n",
        "\n",
        "solution(10)"
      ],
      "execution_count": null,
      "outputs": []
    },
    {
      "cell_type": "code",
      "metadata": {
        "colab": {
          "base_uri": "https://localhost:8080/",
          "height": 136
        },
        "id": "LFujPvc8IsKq",
        "outputId": "8c0e9f7f-4e3b-4160-ce71-592fd1539c2c"
      },
      "source": [
        "# 3. 2. 요약\n",
        "\n",
        "def solution(num):\n",
        "  if num % 2:\n",
        "    return '홀'\n",
        "  else:\n",
        "    return '짝'\n",
        "\n",
        "solution(10)"
      ],
      "execution_count": 2,
      "outputs": [
        {
          "output_type": "error",
          "ename": "SyntaxError",
          "evalue": "ignored",
          "traceback": [
            "\u001b[0;36m  File \u001b[0;32m\"<ipython-input-2-1fee783a9d9d>\"\u001b[0;36m, line \u001b[0;32m3\u001b[0m\n\u001b[0;31m    def solution(num):\u001b[0m\n\u001b[0m                      ^\u001b[0m\n\u001b[0;31mSyntaxError\u001b[0m\u001b[0;31m:\u001b[0m unexpected EOF while parsing\n"
          ]
        }
      ]
    },
    {
      "cell_type": "code",
      "metadata": {
        "id": "f3yq0MZnI2u7"
      },
      "source": [
        "# 4. 3. 요약\n",
        "\n",
        "def solution(num):\n",
        "  if num % 2:\n",
        "    return '홀'\n",
        "  return '짝'\n",
        "\n",
        "solution(10)"
      ],
      "execution_count": null,
      "outputs": []
    },
    {
      "cell_type": "code",
      "metadata": {
        "id": "661OFCWEI9gC"
      },
      "source": [
        "# 5. Python의 if-else를 이용한 삼항 연산의 특성 이용\n",
        "\n",
        "def solution(num):\n",
        "  return '홀' if num % 2 else '짝'\n",
        "\n",
        "solution(10)"
      ],
      "execution_count": null,
      "outputs": []
    },
    {
      "cell_type": "code",
      "metadata": {
        "colab": {
          "base_uri": "https://localhost:8080/",
          "height": 35
        },
        "id": "wk_La-vRIwqD",
        "outputId": "93aebcde-d5da-40f4-b20c-73d27e422ef8"
      },
      "source": [
        "# 6. List 이용\n",
        "\n",
        "def solution(num):\n",
        "  return ['홀', '짝'][0 if num % 2 else 1]\n",
        "\n",
        "solution(10)"
      ],
      "execution_count": 3,
      "outputs": [
        {
          "output_type": "execute_result",
          "data": {
            "application/vnd.google.colaboratory.intrinsic+json": {
              "type": "string"
            },
            "text/plain": [
              "'짝'"
            ]
          },
          "metadata": {
            "tags": []
          },
          "execution_count": 3
        }
      ]
    },
    {
      "cell_type": "code",
      "metadata": {
        "id": "VMPkeVmAJQ35"
      },
      "source": [
        "# 7. 6. 요약\n",
        "\n",
        "def solution(num):\n",
        "  return ['짝', '홀'][num % 2]\n",
        "\n",
        "solution(10)"
      ],
      "execution_count": null,
      "outputs": []
    },
    {
      "cell_type": "code",
      "metadata": {
        "colab": {
          "base_uri": "https://localhost:8080/",
          "height": 136
        },
        "id": "DMCC_LyYJaYq",
        "outputId": "541b083c-e7f3-4c90-863b-6b766e7c9c75"
      },
      "source": [
        "# 8. 비트 연산자 이용\n",
        "\n",
        "def solution(num):\n",
        "  return ['짝', '홀'][num & 1]\n",
        "\n",
        "solution(10)"
      ],
      "execution_count": 4,
      "outputs": [
        {
          "output_type": "error",
          "ename": "SyntaxError",
          "evalue": "ignored",
          "traceback": [
            "\u001b[0;36m  File \u001b[0;32m\"<ipython-input-4-4e718412fa99>\"\u001b[0;36m, line \u001b[0;32m1\u001b[0m\n\u001b[0;31m    def solution(num):\u001b[0m\n\u001b[0m                      ^\u001b[0m\n\u001b[0;31mSyntaxError\u001b[0m\u001b[0;31m:\u001b[0m unexpected EOF while parsing\n"
          ]
        }
      ]
    },
    {
      "cell_type": "code",
      "metadata": {
        "id": "4kQM-OtpJb1E"
      },
      "source": [
        "# 9. Dictionary 이용\n",
        "\n",
        "def solution(num):\n",
        "  return {0:'짝', 1:'홀'}[num & 1]\n",
        "\n",
        "solution(10)"
      ],
      "execution_count": null,
      "outputs": []
    },
    {
      "cell_type": "code",
      "metadata": {
        "id": "hbLsU7p_KGEN"
      },
      "source": [
        "# 10. 문자열 연산 이용\n",
        "\n",
        "def solution(num):\n",
        "  return '짝'*((num+1) % 2) + '홀'*(num % 2)\n",
        "\n",
        "solution(10)"
      ],
      "execution_count": null,
      "outputs": []
    },
    {
      "cell_type": "code",
      "metadata": {
        "colab": {
          "base_uri": "https://localhost:8080/",
          "height": 136
        },
        "id": "73AlBWzjKZqU",
        "outputId": "60235b98-4662-49b7-f5c9-70fe6b098b2c"
      },
      "source": [
        "# 11. 스크립트 언어의 인터프리터 방식 이용\n",
        "def solution(num):\n",
        "  return num % 2 and '홀' or '짝'\n",
        "\n",
        "solution(10)"
      ],
      "execution_count": 5,
      "outputs": [
        {
          "output_type": "error",
          "ename": "SyntaxError",
          "evalue": "ignored",
          "traceback": [
            "\u001b[0;36m  File \u001b[0;32m\"<ipython-input-5-3dd1f9a36260>\"\u001b[0;36m, line \u001b[0;32m2\u001b[0m\n\u001b[0;31m    def solution(num):\u001b[0m\n\u001b[0m                      ^\u001b[0m\n\u001b[0;31mSyntaxError\u001b[0m\u001b[0;31m:\u001b[0m unexpected EOF while parsing\n"
          ]
        }
      ]
    },
    {
      "cell_type": "code",
      "metadata": {
        "id": "dd8KUEyIKddA"
      },
      "source": [
        "# 12. 익명함수 lambda 이용\n",
        "\n",
        "(lambda num: num%2 and '홀' or '짝')(10)"
      ],
      "execution_count": null,
      "outputs": []
    },
    {
      "cell_type": "code",
      "metadata": {
        "id": "YnYEA2FbKkN5"
      },
      "source": [
        "# 13, 악묭험슈 lambda 이용\n",
        "\n",
        "(lambda num: ['짝', '홀'][num % 2])(10)"
      ],
      "execution_count": null,
      "outputs": []
    },
    {
      "cell_type": "code",
      "metadata": {
        "id": "Qung61DJK3NU"
      },
      "source": [
        "# 14. filter() 함수 이용\n",
        "\n",
        "def solution(num):\n",
        "  return '홀' if list(filter(lambda num: num%2, [num])) else '짝'\n",
        "\n",
        "solution(10)"
      ],
      "execution_count": null,
      "outputs": []
    },
    {
      "cell_type": "code",
      "metadata": {
        "id": "H-2TlbQULGtk"
      },
      "source": [
        "# 15. 숫자의 뒷자리만 비교하면 된다는 특징을 이용\n",
        "\n",
        "def solution(num):\n",
        "  return str(num)[-1] in ['2','4','6','8','0'] and '짝' or '홀'\n",
        "\n",
        "solution(10)"
      ],
      "execution_count": null,
      "outputs": []
    }
  ]
}
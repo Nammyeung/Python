{
  "nbformat": 4,
  "nbformat_minor": 0,
  "metadata": {
    "colab": {
      "name": "pythonRestAPI.ipynb의 사본",
      "provenance": [],
      "collapsed_sections": [],
      "authorship_tag": "ABX9TyP3BDbCCk6tVZxpjp8e/uiz",
      "include_colab_link": true
    },
    "kernelspec": {
      "name": "python3",
      "display_name": "Python 3"
    }
  },
  "cells": [
    {
      "cell_type": "markdown",
      "metadata": {
        "id": "view-in-github",
        "colab_type": "text"
      },
      "source": [
        "<a href=\"https://colab.research.google.com/github/Nammyeung/Python/blob/master/pythonRestAPI.ipynb\" target=\"_parent\"><img src=\"https://colab.research.google.com/assets/colab-badge.svg\" alt=\"Open In Colab\"/></a>"
      ]
    },
    {
      "cell_type": "code",
      "metadata": {
        "id": "UIthi6gCUN5j",
        "colab_type": "code",
        "colab": {
          "base_uri": "https://localhost:8080/",
          "height": 35
        },
        "outputId": "8bedfc1e-d57c-4168-8cda-b6878de3b7c5"
      },
      "source": [
        "#!/bin/python3\n",
        "\n",
        "import math\n",
        "import os\n",
        "import random\n",
        "import re\n",
        "import sys\n",
        "\n",
        "\n",
        "\n",
        "import requests \n",
        "#\n",
        "# Complete the 'getTotalGoals' function below.\n",
        "#\n",
        "# The function is expected to return an INTEGER.\n",
        "# The function accepts following parameters:\n",
        "#  1. STRING team\n",
        "#  2. INTEGER year\n",
        "#\n",
        "\n",
        "def getTotalGoals(team, year):\n",
        "    c=0\n",
        "    r=requests.get('https://jsonmock.hackerrank.com/api/football_matches?year='+str(year)+'&team1='+str(team)+'&page=1').json()\n",
        "    total1=r['total_pages']\n",
        "    per2=r['per_page']\n",
        "    for j in range(1,total1+1):\n",
        "         r=requests.get('https://jsonmock.hackerrank.com/api/football_matches?year='+str(year)+'&team1='+str(team)+'&page='+str(j)).json()\n",
        "         try:\n",
        "            for i in range(0,per2):\n",
        "                team1=r['data'][i]['team1goals']\n",
        "                c+=int(team1)\n",
        "         except:\n",
        "            pass\n",
        "\n",
        "        \n",
        "    r1=requests.get('https://jsonmock.hackerrank.com/api/football_matches?year='+str(year)+'&team2='+str(team)+'&page=1').json()\n",
        "    total2=r1['total_pages']\n",
        "    per2=r['per_page']\n",
        "    for j in range(1,total2+1):\n",
        "         r1=requests.get('https://jsonmock.hackerrank.com/api/football_matches?year='+str(year)+'&team2='+str(team)+'&page='+str(j)).json()\n",
        "         try:\n",
        "            for i in range(0,per2):\n",
        "                team2=r1['data'][i]['team2goals']\n",
        "                c+=int(team2)\n",
        "         except:\n",
        "            pass\n",
        "    return c\n",
        "'''\n",
        "PASTE   ABOVE THE if __name__ == '__main__':\n",
        "'''"
      ],
      "execution_count": null,
      "outputs": [
        {
          "output_type": "execute_result",
          "data": {
            "application/vnd.google.colaboratory.intrinsic+json": {
              "type": "string"
            },
            "text/plain": [
              "\"\\nPASTE   ABOVE THE if __name__ == '__main__':\\n\""
            ]
          },
          "metadata": {
            "tags": []
          },
          "execution_count": 4
        }
      ]
    },
    {
      "cell_type": "code",
      "metadata": {
        "id": "ha8lfRbyVJm0",
        "colab_type": "code",
        "colab": {}
      },
      "source": [
        "team = 'Barcelona'\n",
        "year = '2011'"
      ],
      "execution_count": null,
      "outputs": []
    },
    {
      "cell_type": "code",
      "metadata": {
        "id": "VPBUNyNeVBcN",
        "colab_type": "code",
        "colab": {}
      },
      "source": [
        "import requests"
      ],
      "execution_count": null,
      "outputs": []
    },
    {
      "cell_type": "code",
      "metadata": {
        "id": "fG1ozV9dVEfk",
        "colab_type": "code",
        "colab": {}
      },
      "source": [
        "r=requests.get('https://jsonmock.hackerrank.com/api/football_matches?year='+str(year)+'&team1='+str(team)+'&page=1').json()"
      ],
      "execution_count": null,
      "outputs": []
    },
    {
      "cell_type": "code",
      "metadata": {
        "id": "5SdIA0d9WN_L",
        "colab_type": "code",
        "colab": {
          "base_uri": "https://localhost:8080/",
          "height": 845
        },
        "outputId": "35ec3343-d459-4019-fa36-d500aa80bc2c"
      },
      "source": [
        "r"
      ],
      "execution_count": null,
      "outputs": [
        {
          "output_type": "execute_result",
          "data": {
            "text/plain": [
              "{'data': [{'competition': 'UEFA Champions League',\n",
              "   'round': 'GroupH',\n",
              "   'team1': 'Barcelona',\n",
              "   'team1goals': '2',\n",
              "   'team2': 'AC Milan',\n",
              "   'team2goals': '2',\n",
              "   'year': 2011},\n",
              "  {'competition': 'UEFA Champions League',\n",
              "   'round': 'GroupH',\n",
              "   'team1': 'Barcelona',\n",
              "   'team1goals': '2',\n",
              "   'team2': 'Viktoria Plzen',\n",
              "   'team2goals': '0',\n",
              "   'year': 2011},\n",
              "  {'competition': 'UEFA Champions League',\n",
              "   'round': 'GroupH',\n",
              "   'team1': 'Barcelona',\n",
              "   'team1goals': '4',\n",
              "   'team2': 'BATE Borisov',\n",
              "   'team2goals': '0',\n",
              "   'year': 2011},\n",
              "  {'competition': 'UEFA Champions League',\n",
              "   'round': 'R16',\n",
              "   'team1': 'Barcelona',\n",
              "   'team1goals': '7',\n",
              "   'team2': 'Bayer Leverkusen',\n",
              "   'team2goals': '1',\n",
              "   'year': 2011},\n",
              "  {'competition': 'UEFA Champions League',\n",
              "   'round': 'QF',\n",
              "   'team1': 'Barcelona',\n",
              "   'team1goals': '3',\n",
              "   'team2': 'AC Milan',\n",
              "   'team2goals': '1',\n",
              "   'year': 2011},\n",
              "  {'competition': 'UEFA Champions League',\n",
              "   'round': 'SF',\n",
              "   'team1': 'Barcelona',\n",
              "   'team1goals': '2',\n",
              "   'team2': 'Chelsea',\n",
              "   'team2goals': '2',\n",
              "   'year': 2011}],\n",
              " 'page': '1',\n",
              " 'per_page': 10,\n",
              " 'total': 6,\n",
              " 'total_pages': 1}"
            ]
          },
          "metadata": {
            "tags": []
          },
          "execution_count": 14
        }
      ]
    },
    {
      "cell_type": "code",
      "metadata": {
        "id": "23i32zqMVO57",
        "colab_type": "code",
        "colab": {
          "base_uri": "https://localhost:8080/",
          "height": 35
        },
        "outputId": "7035df35-63b1-4664-b884-d0e6daa646c2"
      },
      "source": [
        "r['data'][0]['team1goals']"
      ],
      "execution_count": null,
      "outputs": [
        {
          "output_type": "execute_result",
          "data": {
            "application/vnd.google.colaboratory.intrinsic+json": {
              "type": "string"
            },
            "text/plain": [
              "'2'"
            ]
          },
          "metadata": {
            "tags": []
          },
          "execution_count": 11
        }
      ]
    },
    {
      "cell_type": "code",
      "metadata": {
        "id": "diYB7PevWJA2",
        "colab_type": "code",
        "colab": {}
      },
      "source": [
        "n=r['total']"
      ],
      "execution_count": null,
      "outputs": []
    },
    {
      "cell_type": "code",
      "metadata": {
        "id": "6WSc3UuNWMAM",
        "colab_type": "code",
        "colab": {
          "base_uri": "https://localhost:8080/",
          "height": 35
        },
        "outputId": "c7bfab2c-0f39-417e-ff43-456c7f6ac7a5"
      },
      "source": [
        "n"
      ],
      "execution_count": null,
      "outputs": [
        {
          "output_type": "execute_result",
          "data": {
            "text/plain": [
              "6"
            ]
          },
          "metadata": {
            "tags": []
          },
          "execution_count": 13
        }
      ]
    },
    {
      "cell_type": "code",
      "metadata": {
        "id": "aKqwPpMVWNJE",
        "colab_type": "code",
        "colab": {
          "base_uri": "https://localhost:8080/",
          "height": 35
        },
        "outputId": "14bef3b3-ea98-4de5-d2e0-fd27ca1a430f"
      },
      "source": [
        "s = 0\n",
        "for i in range(n):\n",
        "  s+=int(r['data'][i]['team1goals'])\n",
        "s"
      ],
      "execution_count": null,
      "outputs": [
        {
          "output_type": "execute_result",
          "data": {
            "text/plain": [
              "20"
            ]
          },
          "metadata": {
            "tags": []
          },
          "execution_count": 16
        }
      ]
    }
  ]
}
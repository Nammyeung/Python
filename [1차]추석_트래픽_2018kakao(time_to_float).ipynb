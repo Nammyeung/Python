{
  "nbformat": 4,
  "nbformat_minor": 0,
  "metadata": {
    "colab": {
      "name": "[1차]추석 트래픽_2018kakao(time to float).ipynb",
      "provenance": [],
      "collapsed_sections": [],
      "authorship_tag": "ABX9TyOmpJmo1PUMtWis5VCyY993",
      "include_colab_link": true
    },
    "kernelspec": {
      "name": "python3",
      "display_name": "Python 3"
    }
  },
  "cells": [
    {
      "cell_type": "markdown",
      "metadata": {
        "id": "view-in-github",
        "colab_type": "text"
      },
      "source": [
        "<a href=\"https://colab.research.google.com/github/Nammyeung/Python/blob/master/%5B1%EC%B0%A8%5D%EC%B6%94%EC%84%9D_%ED%8A%B8%EB%9E%98%ED%94%BD_2018kakao(time_to_float).ipynb\" target=\"_parent\"><img src=\"https://colab.research.google.com/assets/colab-badge.svg\" alt=\"Open In Colab\"/></a>"
      ]
    },
    {
      "cell_type": "code",
      "metadata": {
        "id": "s5r0JX7rN184",
        "outputId": "4da83dbf-8c26-4884-85a7-c084bf9fdc59",
        "colab": {
          "base_uri": "https://localhost:8080/",
          "height": 215
        }
      },
      "source": [
        "def solution(lines):\n",
        "\n",
        "  #get input\n",
        "  S, E = [], []\n",
        "  totalLines = 0\n",
        "  for line in lines:\n",
        "    totalLines += 1\n",
        "    type(line)\n",
        "    (d,s,t) = line.split(\" \")\n",
        "\n",
        "    ##time to float\n",
        "    t = float(t[0:-1])\n",
        "    print(\"t : %s\" % t)\n",
        "    (hh, mm, ss) = s.split(\":\")\n",
        "    #시간, 분을 초로 변환\n",
        "    seconds = float(hh) * 3600 + float(mm) * 60 + float(ss)\n",
        "\n",
        "    #스택에 넣는 구조?\n",
        "    E.append(seconds + 1)\n",
        "    S.append(seconds - t + 0.001)\n",
        "\n",
        "  #count the maxTraffic\n",
        "  S.sort()\n",
        "\n",
        "  curTraffic = 0\n",
        "  maxTraffic = 0\n",
        "  countE = 0\n",
        "  countS = 0\n",
        "  while((countE < totalLines) & (countS < totalLines)):\n",
        "    if(S[countS] < E[countE]):\n",
        "      curTraffic += 1\n",
        "      maxTraffic = max(maxTraffic, curTraffic)\n",
        "      countS += 1\n",
        "    else: ## it means that a line is over.\n",
        "      curTraffic -= 1\n",
        "      countE += 1\n",
        "\n",
        "    return maxTraffic\n",
        "\n",
        "#lines = [\"2016-09-15 01:00:04.002 2.0s\" , \"2016-09-15 01:00:07.000 2s\"]\n",
        "lines = [\"2016-09-15 20:59:57.421 0.351s\",\"2016-09-15 20:59:58.233 1.181s\",\"2016-09-15 20:59:58.299 0.8s\",\"2016-09-15 20:59:58.688 1.041s\",\"2016-09-15 20:59:59.591 1.412s\",\"2016-09-15 21:00:00.464 1.466s\",\"2016-09-15 21:00:00.741 1.581s\",\"2016-09-15 21:00:00.748 2.31s\",\"2016-09-15 21:00:00.966 0.381s\",\"2016-09-15 21:00:02.066 2.62s\"]\n",
        "\n",
        "print(solution(lines))\n"
      ],
      "execution_count": 7,
      "outputs": [
        {
          "output_type": "stream",
          "text": [
            "t : 0.351\n",
            "t : 1.181\n",
            "t : 0.8\n",
            "t : 1.041\n",
            "t : 1.412\n",
            "t : 1.466\n",
            "t : 1.581\n",
            "t : 2.31\n",
            "t : 0.381\n",
            "t : 2.62\n",
            "1\n"
          ],
          "name": "stdout"
        }
      ]
    }
  ]
}
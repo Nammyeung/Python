{
  "nbformat": 4,
  "nbformat_minor": 0,
  "metadata": {
    "colab": {
      "name": "Codility3.ipynb",
      "provenance": [],
      "authorship_tag": "ABX9TyNSE/0DZDeIDNkFEh6iD/0o",
      "include_colab_link": true
    },
    "kernelspec": {
      "name": "python3",
      "display_name": "Python 3"
    }
  },
  "cells": [
    {
      "cell_type": "markdown",
      "metadata": {
        "id": "view-in-github",
        "colab_type": "text"
      },
      "source": [
        "<a href=\"https://colab.research.google.com/github/Nammyeung/Python/blob/master/Codility3.ipynb\" target=\"_parent\"><img src=\"https://colab.research.google.com/assets/colab-badge.svg\" alt=\"Open In Colab\"/></a>"
      ]
    },
    {
      "cell_type": "code",
      "metadata": {
        "id": "n0IWhvYqqNcY",
        "outputId": "cd54287b-c55f-4313-f90e-bbf6f9824613",
        "colab": {
          "base_uri": "https://localhost:8080/"
        }
      },
      "source": [
        "lowerBound = 0\n",
        "upperBound = 2**20 - 1\n",
        "\n",
        "def push(stack, num):\n",
        "  if num < lowerBound or upperBound < num:\n",
        "    raise Exception\n",
        "  stack.append(num)\n",
        "\n",
        "def pop(stack):\n",
        "  if isEmpty(stack):\n",
        "    raise Exception\n",
        "  return stack.pop()\n",
        "\n",
        "def top(stack):\n",
        "  if isEmpty(stack):\n",
        "    raise Exception\n",
        "\n",
        "def isEmpty(stack):\n",
        "  return len(stack) == 0\n",
        "\n",
        "def solution(S):\n",
        "  operations = S.split()\n",
        "  stack = {}\n",
        "\n",
        "  try:\n",
        "    for op in operations:\n",
        "      if op.isdigit():\n",
        "        push(stack, int(op))\n",
        "      elif op == \"DUP\":\n",
        "        push(stack, top(stack))\n",
        "      elif op == \"POP\":\n",
        "        pop(stack)\n",
        "      elif op == \"+\":\n",
        "        push(stack, pop(stack) + pop(stack))\n",
        "      elif op == \"-\":\n",
        "        push(stack, pop(stack) + pop(stack))\n",
        "    result = top(stack)\n",
        "  except:\n",
        "    return -1\n",
        "  else:\n",
        "    #return result\n",
        "    print(result)\n",
        "\n",
        "S = \"29+19-3\"\n",
        "solution(S)\n",
        "      "
      ],
      "execution_count": 11,
      "outputs": [
        {
          "output_type": "execute_result",
          "data": {
            "text/plain": [
              "-1"
            ]
          },
          "metadata": {
            "tags": []
          },
          "execution_count": 11
        }
      ]
    },
    {
      "cell_type": "code",
      "metadata": {
        "id": "BLlIwpJCqszQ"
      },
      "source": [
        ""
      ],
      "execution_count": null,
      "outputs": []
    }
  ]
}